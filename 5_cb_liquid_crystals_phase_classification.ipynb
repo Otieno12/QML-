{
  "metadata": {
    "kernelspec": {
      "language": "python",
      "display_name": "Python 3",
      "name": "python3"
    },
    "language_info": {
      "name": "python",
      "version": "3.11.11",
      "mimetype": "text/x-python",
      "codemirror_mode": {
        "name": "ipython",
        "version": 3
      },
      "pygments_lexer": "ipython3",
      "nbconvert_exporter": "python",
      "file_extension": ".py"
    },
    "kaggle": {
      "accelerator": "none",
      "dataSources": [
        {
          "sourceId": 11584843,
          "sourceType": "datasetVersion",
          "datasetId": 7263731
        },
        {
          "sourceId": 11584856,
          "sourceType": "datasetVersion",
          "datasetId": 7263743
        },
        {
          "sourceId": 11584864,
          "sourceType": "datasetVersion",
          "datasetId": 7263749
        }
      ],
      "dockerImageVersionId": 31012,
      "isInternetEnabled": true,
      "language": "python",
      "sourceType": "notebook",
      "isGpuEnabled": false
    },
    "colab": {
      "name": "5_cb liquid crystals phase classification ",
      "provenance": []
    },
    "widgets": {
      "application/vnd.jupyter.widget-state+json": {
        "34ad78176d1f452b935b33f8adcfd32e": {
          "model_module": "@jupyter-widgets/controls",
          "model_name": "VBoxModel",
          "model_module_version": "1.5.0",
          "state": {
            "_dom_classes": [],
            "_model_module": "@jupyter-widgets/controls",
            "_model_module_version": "1.5.0",
            "_model_name": "VBoxModel",
            "_view_count": null,
            "_view_module": "@jupyter-widgets/controls",
            "_view_module_version": "1.5.0",
            "_view_name": "VBoxView",
            "box_style": "",
            "children": [
              "IPY_MODEL_4f4370b073a34841a5ce799e3aca8cb2"
            ],
            "layout": "IPY_MODEL_d7418b8f55414a6ab1aad71b7874305d"
          }
        },
        "7ecd134699dc40febd4d7bc2f80a5f4c": {
          "model_module": "@jupyter-widgets/controls",
          "model_name": "HTMLModel",
          "model_module_version": "1.5.0",
          "state": {
            "_dom_classes": [],
            "_model_module": "@jupyter-widgets/controls",
            "_model_module_version": "1.5.0",
            "_model_name": "HTMLModel",
            "_view_count": null,
            "_view_module": "@jupyter-widgets/controls",
            "_view_module_version": "1.5.0",
            "_view_name": "HTMLView",
            "description": "",
            "description_tooltip": null,
            "layout": "IPY_MODEL_08db769daa2546d1bf23c937f855d68f",
            "placeholder": "​",
            "style": "IPY_MODEL_268cd81d2a944742b517222ff4c4efe9",
            "value": "<center> <img\nsrc=https://www.kaggle.com/static/images/site-logo.png\nalt='Kaggle'> <br> Create an API token from <a\nhref=\"https://www.kaggle.com/settings/account\" target=\"_blank\">your Kaggle\nsettings page</a> and paste it below along with your Kaggle username. <br> </center>"
          }
        },
        "ec86d8c5b85b44df9cf8c96040d00b98": {
          "model_module": "@jupyter-widgets/controls",
          "model_name": "TextModel",
          "model_module_version": "1.5.0",
          "state": {
            "_dom_classes": [],
            "_model_module": "@jupyter-widgets/controls",
            "_model_module_version": "1.5.0",
            "_model_name": "TextModel",
            "_view_count": null,
            "_view_module": "@jupyter-widgets/controls",
            "_view_module_version": "1.5.0",
            "_view_name": "TextView",
            "continuous_update": true,
            "description": "Username:",
            "description_tooltip": null,
            "disabled": false,
            "layout": "IPY_MODEL_2bb74b7a2df049bcb3fbda2a64f96883",
            "placeholder": "​",
            "style": "IPY_MODEL_4c4d0a51c1274eb39375c584225fb4d0",
            "value": "edwardotieno"
          }
        },
        "8dcbd4cb761948278f296fc972233114": {
          "model_module": "@jupyter-widgets/controls",
          "model_name": "PasswordModel",
          "model_module_version": "1.5.0",
          "state": {
            "_dom_classes": [],
            "_model_module": "@jupyter-widgets/controls",
            "_model_module_version": "1.5.0",
            "_model_name": "PasswordModel",
            "_view_count": null,
            "_view_module": "@jupyter-widgets/controls",
            "_view_module_version": "1.5.0",
            "_view_name": "PasswordView",
            "continuous_update": true,
            "description": "Token:",
            "description_tooltip": null,
            "disabled": false,
            "layout": "IPY_MODEL_3e57d0a1db02401a8306641cc5e838dd",
            "placeholder": "​",
            "style": "IPY_MODEL_58b57968aded430690e22eefc8c15f5d",
            "value": ""
          }
        },
        "70ff5a38bbdd420a9a945ad140899df4": {
          "model_module": "@jupyter-widgets/controls",
          "model_name": "ButtonModel",
          "model_module_version": "1.5.0",
          "state": {
            "_dom_classes": [],
            "_model_module": "@jupyter-widgets/controls",
            "_model_module_version": "1.5.0",
            "_model_name": "ButtonModel",
            "_view_count": null,
            "_view_module": "@jupyter-widgets/controls",
            "_view_module_version": "1.5.0",
            "_view_name": "ButtonView",
            "button_style": "",
            "description": "Login",
            "disabled": false,
            "icon": "",
            "layout": "IPY_MODEL_a72b4d2809dc4416b5aa924419912cab",
            "style": "IPY_MODEL_de35543939ea486f8ef2136de37368c6",
            "tooltip": ""
          }
        },
        "5ebfa279fe604f598196491741e59172": {
          "model_module": "@jupyter-widgets/controls",
          "model_name": "HTMLModel",
          "model_module_version": "1.5.0",
          "state": {
            "_dom_classes": [],
            "_model_module": "@jupyter-widgets/controls",
            "_model_module_version": "1.5.0",
            "_model_name": "HTMLModel",
            "_view_count": null,
            "_view_module": "@jupyter-widgets/controls",
            "_view_module_version": "1.5.0",
            "_view_name": "HTMLView",
            "description": "",
            "description_tooltip": null,
            "layout": "IPY_MODEL_2e3155be6f9c4886b5a3cf7905656f01",
            "placeholder": "​",
            "style": "IPY_MODEL_97635b5f79bb425f93f70df90ce2ec75",
            "value": "\n<b>Thank You</b></center>"
          }
        },
        "d7418b8f55414a6ab1aad71b7874305d": {
          "model_module": "@jupyter-widgets/base",
          "model_name": "LayoutModel",
          "model_module_version": "1.2.0",
          "state": {
            "_model_module": "@jupyter-widgets/base",
            "_model_module_version": "1.2.0",
            "_model_name": "LayoutModel",
            "_view_count": null,
            "_view_module": "@jupyter-widgets/base",
            "_view_module_version": "1.2.0",
            "_view_name": "LayoutView",
            "align_content": null,
            "align_items": "center",
            "align_self": null,
            "border": null,
            "bottom": null,
            "display": "flex",
            "flex": null,
            "flex_flow": "column",
            "grid_area": null,
            "grid_auto_columns": null,
            "grid_auto_flow": null,
            "grid_auto_rows": null,
            "grid_column": null,
            "grid_gap": null,
            "grid_row": null,
            "grid_template_areas": null,
            "grid_template_columns": null,
            "grid_template_rows": null,
            "height": null,
            "justify_content": null,
            "justify_items": null,
            "left": null,
            "margin": null,
            "max_height": null,
            "max_width": null,
            "min_height": null,
            "min_width": null,
            "object_fit": null,
            "object_position": null,
            "order": null,
            "overflow": null,
            "overflow_x": null,
            "overflow_y": null,
            "padding": null,
            "right": null,
            "top": null,
            "visibility": null,
            "width": "50%"
          }
        },
        "08db769daa2546d1bf23c937f855d68f": {
          "model_module": "@jupyter-widgets/base",
          "model_name": "LayoutModel",
          "model_module_version": "1.2.0",
          "state": {
            "_model_module": "@jupyter-widgets/base",
            "_model_module_version": "1.2.0",
            "_model_name": "LayoutModel",
            "_view_count": null,
            "_view_module": "@jupyter-widgets/base",
            "_view_module_version": "1.2.0",
            "_view_name": "LayoutView",
            "align_content": null,
            "align_items": null,
            "align_self": null,
            "border": null,
            "bottom": null,
            "display": null,
            "flex": null,
            "flex_flow": null,
            "grid_area": null,
            "grid_auto_columns": null,
            "grid_auto_flow": null,
            "grid_auto_rows": null,
            "grid_column": null,
            "grid_gap": null,
            "grid_row": null,
            "grid_template_areas": null,
            "grid_template_columns": null,
            "grid_template_rows": null,
            "height": null,
            "justify_content": null,
            "justify_items": null,
            "left": null,
            "margin": null,
            "max_height": null,
            "max_width": null,
            "min_height": null,
            "min_width": null,
            "object_fit": null,
            "object_position": null,
            "order": null,
            "overflow": null,
            "overflow_x": null,
            "overflow_y": null,
            "padding": null,
            "right": null,
            "top": null,
            "visibility": null,
            "width": null
          }
        },
        "268cd81d2a944742b517222ff4c4efe9": {
          "model_module": "@jupyter-widgets/controls",
          "model_name": "DescriptionStyleModel",
          "model_module_version": "1.5.0",
          "state": {
            "_model_module": "@jupyter-widgets/controls",
            "_model_module_version": "1.5.0",
            "_model_name": "DescriptionStyleModel",
            "_view_count": null,
            "_view_module": "@jupyter-widgets/base",
            "_view_module_version": "1.2.0",
            "_view_name": "StyleView",
            "description_width": ""
          }
        },
        "2bb74b7a2df049bcb3fbda2a64f96883": {
          "model_module": "@jupyter-widgets/base",
          "model_name": "LayoutModel",
          "model_module_version": "1.2.0",
          "state": {
            "_model_module": "@jupyter-widgets/base",
            "_model_module_version": "1.2.0",
            "_model_name": "LayoutModel",
            "_view_count": null,
            "_view_module": "@jupyter-widgets/base",
            "_view_module_version": "1.2.0",
            "_view_name": "LayoutView",
            "align_content": null,
            "align_items": null,
            "align_self": null,
            "border": null,
            "bottom": null,
            "display": null,
            "flex": null,
            "flex_flow": null,
            "grid_area": null,
            "grid_auto_columns": null,
            "grid_auto_flow": null,
            "grid_auto_rows": null,
            "grid_column": null,
            "grid_gap": null,
            "grid_row": null,
            "grid_template_areas": null,
            "grid_template_columns": null,
            "grid_template_rows": null,
            "height": null,
            "justify_content": null,
            "justify_items": null,
            "left": null,
            "margin": null,
            "max_height": null,
            "max_width": null,
            "min_height": null,
            "min_width": null,
            "object_fit": null,
            "object_position": null,
            "order": null,
            "overflow": null,
            "overflow_x": null,
            "overflow_y": null,
            "padding": null,
            "right": null,
            "top": null,
            "visibility": null,
            "width": null
          }
        },
        "4c4d0a51c1274eb39375c584225fb4d0": {
          "model_module": "@jupyter-widgets/controls",
          "model_name": "DescriptionStyleModel",
          "model_module_version": "1.5.0",
          "state": {
            "_model_module": "@jupyter-widgets/controls",
            "_model_module_version": "1.5.0",
            "_model_name": "DescriptionStyleModel",
            "_view_count": null,
            "_view_module": "@jupyter-widgets/base",
            "_view_module_version": "1.2.0",
            "_view_name": "StyleView",
            "description_width": ""
          }
        },
        "3e57d0a1db02401a8306641cc5e838dd": {
          "model_module": "@jupyter-widgets/base",
          "model_name": "LayoutModel",
          "model_module_version": "1.2.0",
          "state": {
            "_model_module": "@jupyter-widgets/base",
            "_model_module_version": "1.2.0",
            "_model_name": "LayoutModel",
            "_view_count": null,
            "_view_module": "@jupyter-widgets/base",
            "_view_module_version": "1.2.0",
            "_view_name": "LayoutView",
            "align_content": null,
            "align_items": null,
            "align_self": null,
            "border": null,
            "bottom": null,
            "display": null,
            "flex": null,
            "flex_flow": null,
            "grid_area": null,
            "grid_auto_columns": null,
            "grid_auto_flow": null,
            "grid_auto_rows": null,
            "grid_column": null,
            "grid_gap": null,
            "grid_row": null,
            "grid_template_areas": null,
            "grid_template_columns": null,
            "grid_template_rows": null,
            "height": null,
            "justify_content": null,
            "justify_items": null,
            "left": null,
            "margin": null,
            "max_height": null,
            "max_width": null,
            "min_height": null,
            "min_width": null,
            "object_fit": null,
            "object_position": null,
            "order": null,
            "overflow": null,
            "overflow_x": null,
            "overflow_y": null,
            "padding": null,
            "right": null,
            "top": null,
            "visibility": null,
            "width": null
          }
        },
        "58b57968aded430690e22eefc8c15f5d": {
          "model_module": "@jupyter-widgets/controls",
          "model_name": "DescriptionStyleModel",
          "model_module_version": "1.5.0",
          "state": {
            "_model_module": "@jupyter-widgets/controls",
            "_model_module_version": "1.5.0",
            "_model_name": "DescriptionStyleModel",
            "_view_count": null,
            "_view_module": "@jupyter-widgets/base",
            "_view_module_version": "1.2.0",
            "_view_name": "StyleView",
            "description_width": ""
          }
        },
        "a72b4d2809dc4416b5aa924419912cab": {
          "model_module": "@jupyter-widgets/base",
          "model_name": "LayoutModel",
          "model_module_version": "1.2.0",
          "state": {
            "_model_module": "@jupyter-widgets/base",
            "_model_module_version": "1.2.0",
            "_model_name": "LayoutModel",
            "_view_count": null,
            "_view_module": "@jupyter-widgets/base",
            "_view_module_version": "1.2.0",
            "_view_name": "LayoutView",
            "align_content": null,
            "align_items": null,
            "align_self": null,
            "border": null,
            "bottom": null,
            "display": null,
            "flex": null,
            "flex_flow": null,
            "grid_area": null,
            "grid_auto_columns": null,
            "grid_auto_flow": null,
            "grid_auto_rows": null,
            "grid_column": null,
            "grid_gap": null,
            "grid_row": null,
            "grid_template_areas": null,
            "grid_template_columns": null,
            "grid_template_rows": null,
            "height": null,
            "justify_content": null,
            "justify_items": null,
            "left": null,
            "margin": null,
            "max_height": null,
            "max_width": null,
            "min_height": null,
            "min_width": null,
            "object_fit": null,
            "object_position": null,
            "order": null,
            "overflow": null,
            "overflow_x": null,
            "overflow_y": null,
            "padding": null,
            "right": null,
            "top": null,
            "visibility": null,
            "width": null
          }
        },
        "de35543939ea486f8ef2136de37368c6": {
          "model_module": "@jupyter-widgets/controls",
          "model_name": "ButtonStyleModel",
          "model_module_version": "1.5.0",
          "state": {
            "_model_module": "@jupyter-widgets/controls",
            "_model_module_version": "1.5.0",
            "_model_name": "ButtonStyleModel",
            "_view_count": null,
            "_view_module": "@jupyter-widgets/base",
            "_view_module_version": "1.2.0",
            "_view_name": "StyleView",
            "button_color": null,
            "font_weight": ""
          }
        },
        "2e3155be6f9c4886b5a3cf7905656f01": {
          "model_module": "@jupyter-widgets/base",
          "model_name": "LayoutModel",
          "model_module_version": "1.2.0",
          "state": {
            "_model_module": "@jupyter-widgets/base",
            "_model_module_version": "1.2.0",
            "_model_name": "LayoutModel",
            "_view_count": null,
            "_view_module": "@jupyter-widgets/base",
            "_view_module_version": "1.2.0",
            "_view_name": "LayoutView",
            "align_content": null,
            "align_items": null,
            "align_self": null,
            "border": null,
            "bottom": null,
            "display": null,
            "flex": null,
            "flex_flow": null,
            "grid_area": null,
            "grid_auto_columns": null,
            "grid_auto_flow": null,
            "grid_auto_rows": null,
            "grid_column": null,
            "grid_gap": null,
            "grid_row": null,
            "grid_template_areas": null,
            "grid_template_columns": null,
            "grid_template_rows": null,
            "height": null,
            "justify_content": null,
            "justify_items": null,
            "left": null,
            "margin": null,
            "max_height": null,
            "max_width": null,
            "min_height": null,
            "min_width": null,
            "object_fit": null,
            "object_position": null,
            "order": null,
            "overflow": null,
            "overflow_x": null,
            "overflow_y": null,
            "padding": null,
            "right": null,
            "top": null,
            "visibility": null,
            "width": null
          }
        },
        "97635b5f79bb425f93f70df90ce2ec75": {
          "model_module": "@jupyter-widgets/controls",
          "model_name": "DescriptionStyleModel",
          "model_module_version": "1.5.0",
          "state": {
            "_model_module": "@jupyter-widgets/controls",
            "_model_module_version": "1.5.0",
            "_model_name": "DescriptionStyleModel",
            "_view_count": null,
            "_view_module": "@jupyter-widgets/base",
            "_view_module_version": "1.2.0",
            "_view_name": "StyleView",
            "description_width": ""
          }
        },
        "b0530c2806b148e4a10a02e67f75f92a": {
          "model_module": "@jupyter-widgets/controls",
          "model_name": "LabelModel",
          "model_module_version": "1.5.0",
          "state": {
            "_dom_classes": [],
            "_model_module": "@jupyter-widgets/controls",
            "_model_module_version": "1.5.0",
            "_model_name": "LabelModel",
            "_view_count": null,
            "_view_module": "@jupyter-widgets/controls",
            "_view_module_version": "1.5.0",
            "_view_name": "LabelView",
            "description": "",
            "description_tooltip": null,
            "layout": "IPY_MODEL_039871abaff9425086bd0ce2de0c550c",
            "placeholder": "​",
            "style": "IPY_MODEL_57a6e6eb90d949d9ad2564690a659a95",
            "value": "Connecting..."
          }
        },
        "039871abaff9425086bd0ce2de0c550c": {
          "model_module": "@jupyter-widgets/base",
          "model_name": "LayoutModel",
          "model_module_version": "1.2.0",
          "state": {
            "_model_module": "@jupyter-widgets/base",
            "_model_module_version": "1.2.0",
            "_model_name": "LayoutModel",
            "_view_count": null,
            "_view_module": "@jupyter-widgets/base",
            "_view_module_version": "1.2.0",
            "_view_name": "LayoutView",
            "align_content": null,
            "align_items": null,
            "align_self": null,
            "border": null,
            "bottom": null,
            "display": null,
            "flex": null,
            "flex_flow": null,
            "grid_area": null,
            "grid_auto_columns": null,
            "grid_auto_flow": null,
            "grid_auto_rows": null,
            "grid_column": null,
            "grid_gap": null,
            "grid_row": null,
            "grid_template_areas": null,
            "grid_template_columns": null,
            "grid_template_rows": null,
            "height": null,
            "justify_content": null,
            "justify_items": null,
            "left": null,
            "margin": null,
            "max_height": null,
            "max_width": null,
            "min_height": null,
            "min_width": null,
            "object_fit": null,
            "object_position": null,
            "order": null,
            "overflow": null,
            "overflow_x": null,
            "overflow_y": null,
            "padding": null,
            "right": null,
            "top": null,
            "visibility": null,
            "width": null
          }
        },
        "57a6e6eb90d949d9ad2564690a659a95": {
          "model_module": "@jupyter-widgets/controls",
          "model_name": "DescriptionStyleModel",
          "model_module_version": "1.5.0",
          "state": {
            "_model_module": "@jupyter-widgets/controls",
            "_model_module_version": "1.5.0",
            "_model_name": "DescriptionStyleModel",
            "_view_count": null,
            "_view_module": "@jupyter-widgets/base",
            "_view_module_version": "1.2.0",
            "_view_name": "StyleView",
            "description_width": ""
          }
        },
        "4f4370b073a34841a5ce799e3aca8cb2": {
          "model_module": "@jupyter-widgets/controls",
          "model_name": "LabelModel",
          "model_module_version": "1.5.0",
          "state": {
            "_dom_classes": [],
            "_model_module": "@jupyter-widgets/controls",
            "_model_module_version": "1.5.0",
            "_model_name": "LabelModel",
            "_view_count": null,
            "_view_module": "@jupyter-widgets/controls",
            "_view_module_version": "1.5.0",
            "_view_name": "LabelView",
            "description": "",
            "description_tooltip": null,
            "layout": "IPY_MODEL_392c149cf1854ee7ada64e0558b6e7b1",
            "placeholder": "​",
            "style": "IPY_MODEL_d7d232f42a514ae4974e3512748f4784",
            "value": "Kaggle credentials successfully validated."
          }
        },
        "392c149cf1854ee7ada64e0558b6e7b1": {
          "model_module": "@jupyter-widgets/base",
          "model_name": "LayoutModel",
          "model_module_version": "1.2.0",
          "state": {
            "_model_module": "@jupyter-widgets/base",
            "_model_module_version": "1.2.0",
            "_model_name": "LayoutModel",
            "_view_count": null,
            "_view_module": "@jupyter-widgets/base",
            "_view_module_version": "1.2.0",
            "_view_name": "LayoutView",
            "align_content": null,
            "align_items": null,
            "align_self": null,
            "border": null,
            "bottom": null,
            "display": null,
            "flex": null,
            "flex_flow": null,
            "grid_area": null,
            "grid_auto_columns": null,
            "grid_auto_flow": null,
            "grid_auto_rows": null,
            "grid_column": null,
            "grid_gap": null,
            "grid_row": null,
            "grid_template_areas": null,
            "grid_template_columns": null,
            "grid_template_rows": null,
            "height": null,
            "justify_content": null,
            "justify_items": null,
            "left": null,
            "margin": null,
            "max_height": null,
            "max_width": null,
            "min_height": null,
            "min_width": null,
            "object_fit": null,
            "object_position": null,
            "order": null,
            "overflow": null,
            "overflow_x": null,
            "overflow_y": null,
            "padding": null,
            "right": null,
            "top": null,
            "visibility": null,
            "width": null
          }
        },
        "d7d232f42a514ae4974e3512748f4784": {
          "model_module": "@jupyter-widgets/controls",
          "model_name": "DescriptionStyleModel",
          "model_module_version": "1.5.0",
          "state": {
            "_model_module": "@jupyter-widgets/controls",
            "_model_module_version": "1.5.0",
            "_model_name": "DescriptionStyleModel",
            "_view_count": null,
            "_view_module": "@jupyter-widgets/base",
            "_view_module_version": "1.2.0",
            "_view_name": "StyleView",
            "description_width": ""
          }
        }
      }
    }
  },
  "nbformat_minor": 0,
  "nbformat": 4,
  "cells": [
    {
      "source": [
        "# IMPORTANT: SOME KAGGLE DATA SOURCES ARE PRIVATE\n",
        "# RUN THIS CELL IN ORDER TO IMPORT YOUR KAGGLE DATA SOURCES.\n",
        "import kagglehub\n",
        "kagglehub.login()\n"
      ],
      "metadata": {
        "id": "0QDx-Cvdk_vG",
        "outputId": "190d397c-5a39-41d3-bfb6-75544cc94396",
        "colab": {
          "base_uri": "https://localhost:8080/",
          "height": 85,
          "referenced_widgets": [
            "34ad78176d1f452b935b33f8adcfd32e",
            "7ecd134699dc40febd4d7bc2f80a5f4c",
            "ec86d8c5b85b44df9cf8c96040d00b98",
            "8dcbd4cb761948278f296fc972233114",
            "70ff5a38bbdd420a9a945ad140899df4",
            "5ebfa279fe604f598196491741e59172",
            "d7418b8f55414a6ab1aad71b7874305d",
            "08db769daa2546d1bf23c937f855d68f",
            "268cd81d2a944742b517222ff4c4efe9",
            "2bb74b7a2df049bcb3fbda2a64f96883",
            "4c4d0a51c1274eb39375c584225fb4d0",
            "3e57d0a1db02401a8306641cc5e838dd",
            "58b57968aded430690e22eefc8c15f5d",
            "a72b4d2809dc4416b5aa924419912cab",
            "de35543939ea486f8ef2136de37368c6",
            "2e3155be6f9c4886b5a3cf7905656f01",
            "97635b5f79bb425f93f70df90ce2ec75",
            "b0530c2806b148e4a10a02e67f75f92a",
            "039871abaff9425086bd0ce2de0c550c",
            "57a6e6eb90d949d9ad2564690a659a95",
            "4f4370b073a34841a5ce799e3aca8cb2",
            "392c149cf1854ee7ada64e0558b6e7b1",
            "d7d232f42a514ae4974e3512748f4784"
          ]
        }
      },
      "cell_type": "code",
      "outputs": [
        {
          "output_type": "display_data",
          "data": {
            "text/plain": [
              "VBox(children=(HTML(value='<center> <img\\nsrc=https://www.kaggle.com/static/images/site-logo.png\\nalt=\\'Kaggle…"
            ],
            "application/vnd.jupyter.widget-view+json": {
              "version_major": 2,
              "version_minor": 0,
              "model_id": "34ad78176d1f452b935b33f8adcfd32e"
            }
          },
          "metadata": {}
        },
        {
          "output_type": "stream",
          "name": "stdout",
          "text": [
            "Kaggle credentials set.\n",
            "Kaggle credentials successfully validated.\n"
          ]
        }
      ],
      "execution_count": 2
    },
    {
      "source": [
        "# IMPORTANT: RUN THIS CELL IN ORDER TO IMPORT YOUR KAGGLE DATA SOURCES,\n",
        "# THEN FEEL FREE TO DELETE THIS CELL.\n",
        "# NOTE: THIS NOTEBOOK ENVIRONMENT DIFFERS FROM KAGGLE'S PYTHON\n",
        "# ENVIRONMENT SO THERE MAY BE MISSING LIBRARIES USED BY YOUR\n",
        "# NOTEBOOK.\n",
        "\n",
        "edwardotieno_isotropic_phase_path = kagglehub.dataset_download('edwardotieno/isotropic-phase')\n",
        "edwardotieno_nematic_phase_path = kagglehub.dataset_download('edwardotieno/nematic-phase')\n",
        "edwardotieno_smectic_phase_path = kagglehub.dataset_download('edwardotieno/smectic-phase')\n",
        "\n",
        "print('Data source import complete.')\n"
      ],
      "metadata": {
        "id": "Pzzv-xOPk_vJ",
        "outputId": "82ba6592-37bc-4dc1-d520-20c86dbce528",
        "colab": {
          "base_uri": "https://localhost:8080/"
        }
      },
      "cell_type": "code",
      "outputs": [
        {
          "output_type": "stream",
          "name": "stdout",
          "text": [
            "Data source import complete.\n"
          ]
        }
      ],
      "execution_count": 3
    },
    {
      "cell_type": "code",
      "source": [
        "# This Python 3 environment comes with many helpful analytics libraries installed\n",
        "# It is defined by the kaggle/python Docker image: https://github.com/kaggle/docker-python\n",
        "# For example, here's several helpful packages to load\n",
        "\n",
        "import numpy as np # linear algebra\n",
        "import pandas as pd # data processing, CSV file I/O (e.g. pd.read_csv)\n",
        "\n",
        "# Input data files are available in the read-only \"../input/\" directory\n",
        "# For example, running this (by clicking run or pressing Shift+Enter) will list all files under the input directory\n",
        "\n",
        "import os\n",
        "for dirname, _, filenames in os.walk('/kaggle/input'):\n",
        "    for filename in filenames:\n",
        "        print(os.path.join(dirname, filename))\n",
        "\n",
        "# You can write up to 20GB to the current directory (/kaggle/working/) that gets preserved as output when you create a version using \"Save & Run All\"\n",
        "# You can also write temporary files to /kaggle/temp/, but they won't be saved outside of the current session"
      ],
      "metadata": {
        "_uuid": "8f2839f25d086af736a60e9eeb907d3b93b6e0e5",
        "_cell_guid": "b1076dfc-b9ad-4769-8c92-a6c4dae69d19",
        "trusted": true,
        "execution": {
          "iopub.status.busy": "2025-04-30T15:40:45.599372Z",
          "iopub.execute_input": "2025-04-30T15:40:45.599674Z",
          "iopub.status.idle": "2025-04-30T15:40:46.140168Z",
          "shell.execute_reply.started": "2025-04-30T15:40:45.599652Z",
          "shell.execute_reply": "2025-04-30T15:40:46.139115Z"
        },
        "id": "uxDFDKdMk_vL"
      },
      "outputs": [],
      "execution_count": 4
    },
    {
      "cell_type": "code",
      "source": [
        "!pip install tensorflow keras numpy matplotlib"
      ],
      "metadata": {
        "trusted": true,
        "execution": {
          "iopub.status.busy": "2025-04-30T15:40:46.141615Z",
          "iopub.execute_input": "2025-04-30T15:40:46.1421Z",
          "iopub.status.idle": "2025-04-30T15:40:51.652659Z",
          "shell.execute_reply.started": "2025-04-30T15:40:46.142042Z",
          "shell.execute_reply": "2025-04-30T15:40:51.651156Z"
        },
        "id": "vtKcQcFLk_vN",
        "outputId": "2e273e63-5685-454e-b6fb-88b9adc0b85a",
        "colab": {
          "base_uri": "https://localhost:8080/"
        }
      },
      "outputs": [
        {
          "output_type": "stream",
          "name": "stdout",
          "text": [
            "Requirement already satisfied: tensorflow in /usr/local/lib/python3.11/dist-packages (2.18.0)\n",
            "Requirement already satisfied: keras in /usr/local/lib/python3.11/dist-packages (3.8.0)\n",
            "Requirement already satisfied: numpy in /usr/local/lib/python3.11/dist-packages (2.0.2)\n",
            "Requirement already satisfied: matplotlib in /usr/local/lib/python3.11/dist-packages (3.10.0)\n",
            "Requirement already satisfied: absl-py>=1.0.0 in /usr/local/lib/python3.11/dist-packages (from tensorflow) (1.4.0)\n",
            "Requirement already satisfied: astunparse>=1.6.0 in /usr/local/lib/python3.11/dist-packages (from tensorflow) (1.6.3)\n",
            "Requirement already satisfied: flatbuffers>=24.3.25 in /usr/local/lib/python3.11/dist-packages (from tensorflow) (25.2.10)\n",
            "Requirement already satisfied: gast!=0.5.0,!=0.5.1,!=0.5.2,>=0.2.1 in /usr/local/lib/python3.11/dist-packages (from tensorflow) (0.6.0)\n",
            "Requirement already satisfied: google-pasta>=0.1.1 in /usr/local/lib/python3.11/dist-packages (from tensorflow) (0.2.0)\n",
            "Requirement already satisfied: libclang>=13.0.0 in /usr/local/lib/python3.11/dist-packages (from tensorflow) (18.1.1)\n",
            "Requirement already satisfied: opt-einsum>=2.3.2 in /usr/local/lib/python3.11/dist-packages (from tensorflow) (3.4.0)\n",
            "Requirement already satisfied: packaging in /usr/local/lib/python3.11/dist-packages (from tensorflow) (24.2)\n",
            "Requirement already satisfied: protobuf!=4.21.0,!=4.21.1,!=4.21.2,!=4.21.3,!=4.21.4,!=4.21.5,<6.0.0dev,>=3.20.3 in /usr/local/lib/python3.11/dist-packages (from tensorflow) (5.29.4)\n",
            "Requirement already satisfied: requests<3,>=2.21.0 in /usr/local/lib/python3.11/dist-packages (from tensorflow) (2.32.3)\n",
            "Requirement already satisfied: setuptools in /usr/local/lib/python3.11/dist-packages (from tensorflow) (75.2.0)\n",
            "Requirement already satisfied: six>=1.12.0 in /usr/local/lib/python3.11/dist-packages (from tensorflow) (1.17.0)\n",
            "Requirement already satisfied: termcolor>=1.1.0 in /usr/local/lib/python3.11/dist-packages (from tensorflow) (3.0.1)\n",
            "Requirement already satisfied: typing-extensions>=3.6.6 in /usr/local/lib/python3.11/dist-packages (from tensorflow) (4.13.2)\n",
            "Requirement already satisfied: wrapt>=1.11.0 in /usr/local/lib/python3.11/dist-packages (from tensorflow) (1.17.2)\n",
            "Requirement already satisfied: grpcio<2.0,>=1.24.3 in /usr/local/lib/python3.11/dist-packages (from tensorflow) (1.71.0)\n",
            "Requirement already satisfied: tensorboard<2.19,>=2.18 in /usr/local/lib/python3.11/dist-packages (from tensorflow) (2.18.0)\n",
            "Requirement already satisfied: h5py>=3.11.0 in /usr/local/lib/python3.11/dist-packages (from tensorflow) (3.13.0)\n",
            "Requirement already satisfied: ml-dtypes<0.5.0,>=0.4.0 in /usr/local/lib/python3.11/dist-packages (from tensorflow) (0.4.1)\n",
            "Requirement already satisfied: tensorflow-io-gcs-filesystem>=0.23.1 in /usr/local/lib/python3.11/dist-packages (from tensorflow) (0.37.1)\n",
            "Requirement already satisfied: rich in /usr/local/lib/python3.11/dist-packages (from keras) (13.9.4)\n",
            "Requirement already satisfied: namex in /usr/local/lib/python3.11/dist-packages (from keras) (0.0.9)\n",
            "Requirement already satisfied: optree in /usr/local/lib/python3.11/dist-packages (from keras) (0.15.0)\n",
            "Requirement already satisfied: contourpy>=1.0.1 in /usr/local/lib/python3.11/dist-packages (from matplotlib) (1.3.2)\n",
            "Requirement already satisfied: cycler>=0.10 in /usr/local/lib/python3.11/dist-packages (from matplotlib) (0.12.1)\n",
            "Requirement already satisfied: fonttools>=4.22.0 in /usr/local/lib/python3.11/dist-packages (from matplotlib) (4.57.0)\n",
            "Requirement already satisfied: kiwisolver>=1.3.1 in /usr/local/lib/python3.11/dist-packages (from matplotlib) (1.4.8)\n",
            "Requirement already satisfied: pillow>=8 in /usr/local/lib/python3.11/dist-packages (from matplotlib) (11.2.1)\n",
            "Requirement already satisfied: pyparsing>=2.3.1 in /usr/local/lib/python3.11/dist-packages (from matplotlib) (3.2.3)\n",
            "Requirement already satisfied: python-dateutil>=2.7 in /usr/local/lib/python3.11/dist-packages (from matplotlib) (2.9.0.post0)\n",
            "Requirement already satisfied: wheel<1.0,>=0.23.0 in /usr/local/lib/python3.11/dist-packages (from astunparse>=1.6.0->tensorflow) (0.45.1)\n",
            "Requirement already satisfied: charset-normalizer<4,>=2 in /usr/local/lib/python3.11/dist-packages (from requests<3,>=2.21.0->tensorflow) (3.4.1)\n",
            "Requirement already satisfied: idna<4,>=2.5 in /usr/local/lib/python3.11/dist-packages (from requests<3,>=2.21.0->tensorflow) (3.10)\n",
            "Requirement already satisfied: urllib3<3,>=1.21.1 in /usr/local/lib/python3.11/dist-packages (from requests<3,>=2.21.0->tensorflow) (2.4.0)\n",
            "Requirement already satisfied: certifi>=2017.4.17 in /usr/local/lib/python3.11/dist-packages (from requests<3,>=2.21.0->tensorflow) (2025.1.31)\n",
            "Requirement already satisfied: markdown>=2.6.8 in /usr/local/lib/python3.11/dist-packages (from tensorboard<2.19,>=2.18->tensorflow) (3.8)\n",
            "Requirement already satisfied: tensorboard-data-server<0.8.0,>=0.7.0 in /usr/local/lib/python3.11/dist-packages (from tensorboard<2.19,>=2.18->tensorflow) (0.7.2)\n",
            "Requirement already satisfied: werkzeug>=1.0.1 in /usr/local/lib/python3.11/dist-packages (from tensorboard<2.19,>=2.18->tensorflow) (3.1.3)\n",
            "Requirement already satisfied: markdown-it-py>=2.2.0 in /usr/local/lib/python3.11/dist-packages (from rich->keras) (3.0.0)\n",
            "Requirement already satisfied: pygments<3.0.0,>=2.13.0 in /usr/local/lib/python3.11/dist-packages (from rich->keras) (2.19.1)\n",
            "Requirement already satisfied: mdurl~=0.1 in /usr/local/lib/python3.11/dist-packages (from markdown-it-py>=2.2.0->rich->keras) (0.1.2)\n",
            "Requirement already satisfied: MarkupSafe>=2.1.1 in /usr/local/lib/python3.11/dist-packages (from werkzeug>=1.0.1->tensorboard<2.19,>=2.18->tensorflow) (3.0.2)\n"
          ]
        }
      ],
      "execution_count": 5
    },
    {
      "cell_type": "code",
      "source": [
        "import warnings\n",
        "import tensorflow as tf\n",
        "from tensorflow import keras\n",
        "from tensorflow.keras.preprocessing.image import ImageDataGenerator\n",
        "from tensorflow.keras.applications import ResNet50\n",
        "from tensorflow.keras.models import Model\n",
        "from tensorflow.keras.layers import Dense, Flatten, Dropout, GlobalAveragePooling2D\n",
        "import os\n"
      ],
      "metadata": {
        "trusted": true,
        "execution": {
          "iopub.status.busy": "2025-04-30T15:40:51.654434Z",
          "iopub.execute_input": "2025-04-30T15:40:51.654783Z",
          "iopub.status.idle": "2025-04-30T15:41:10.359246Z",
          "shell.execute_reply.started": "2025-04-30T15:40:51.654747Z",
          "shell.execute_reply": "2025-04-30T15:41:10.358196Z"
        },
        "id": "vPzdkm1Xk_vO"
      },
      "outputs": [],
      "execution_count": 6
    },
    {
      "cell_type": "code",
      "source": [
        "! pip install imgaug"
      ],
      "metadata": {
        "id": "uQb6p019lrJ6",
        "outputId": "54306ce0-96b6-46ed-87d2-95d9a430cc12",
        "colab": {
          "base_uri": "https://localhost:8080/"
        }
      },
      "execution_count": 7,
      "outputs": [
        {
          "output_type": "stream",
          "name": "stdout",
          "text": [
            "Requirement already satisfied: imgaug in /usr/local/lib/python3.11/dist-packages (0.4.0)\n",
            "Requirement already satisfied: six in /usr/local/lib/python3.11/dist-packages (from imgaug) (1.17.0)\n",
            "Requirement already satisfied: numpy>=1.15 in /usr/local/lib/python3.11/dist-packages (from imgaug) (2.0.2)\n",
            "Requirement already satisfied: scipy in /usr/local/lib/python3.11/dist-packages (from imgaug) (1.15.2)\n",
            "Requirement already satisfied: Pillow in /usr/local/lib/python3.11/dist-packages (from imgaug) (11.2.1)\n",
            "Requirement already satisfied: matplotlib in /usr/local/lib/python3.11/dist-packages (from imgaug) (3.10.0)\n",
            "Requirement already satisfied: scikit-image>=0.14.2 in /usr/local/lib/python3.11/dist-packages (from imgaug) (0.25.2)\n",
            "Requirement already satisfied: opencv-python in /usr/local/lib/python3.11/dist-packages (from imgaug) (4.11.0.86)\n",
            "Requirement already satisfied: imageio in /usr/local/lib/python3.11/dist-packages (from imgaug) (2.37.0)\n",
            "Requirement already satisfied: Shapely in /usr/local/lib/python3.11/dist-packages (from imgaug) (2.1.0)\n",
            "Requirement already satisfied: networkx>=3.0 in /usr/local/lib/python3.11/dist-packages (from scikit-image>=0.14.2->imgaug) (3.4.2)\n",
            "Requirement already satisfied: tifffile>=2022.8.12 in /usr/local/lib/python3.11/dist-packages (from scikit-image>=0.14.2->imgaug) (2025.3.30)\n",
            "Requirement already satisfied: packaging>=21 in /usr/local/lib/python3.11/dist-packages (from scikit-image>=0.14.2->imgaug) (24.2)\n",
            "Requirement already satisfied: lazy-loader>=0.4 in /usr/local/lib/python3.11/dist-packages (from scikit-image>=0.14.2->imgaug) (0.4)\n",
            "Requirement already satisfied: contourpy>=1.0.1 in /usr/local/lib/python3.11/dist-packages (from matplotlib->imgaug) (1.3.2)\n",
            "Requirement already satisfied: cycler>=0.10 in /usr/local/lib/python3.11/dist-packages (from matplotlib->imgaug) (0.12.1)\n",
            "Requirement already satisfied: fonttools>=4.22.0 in /usr/local/lib/python3.11/dist-packages (from matplotlib->imgaug) (4.57.0)\n",
            "Requirement already satisfied: kiwisolver>=1.3.1 in /usr/local/lib/python3.11/dist-packages (from matplotlib->imgaug) (1.4.8)\n",
            "Requirement already satisfied: pyparsing>=2.3.1 in /usr/local/lib/python3.11/dist-packages (from matplotlib->imgaug) (3.2.3)\n",
            "Requirement already satisfied: python-dateutil>=2.7 in /usr/local/lib/python3.11/dist-packages (from matplotlib->imgaug) (2.9.0.post0)\n"
          ]
        }
      ]
    },
    {
      "cell_type": "code",
      "source": [
        "! pip install albumentations opencv-python\n"
      ],
      "metadata": {
        "id": "VXjVBMLHmkIL",
        "outputId": "550604ea-751f-414a-cb5f-ea43588d206e",
        "colab": {
          "base_uri": "https://localhost:8080/"
        }
      },
      "execution_count": 8,
      "outputs": [
        {
          "output_type": "stream",
          "name": "stdout",
          "text": [
            "Requirement already satisfied: albumentations in /usr/local/lib/python3.11/dist-packages (2.0.5)\n",
            "Requirement already satisfied: opencv-python in /usr/local/lib/python3.11/dist-packages (4.11.0.86)\n",
            "Requirement already satisfied: numpy>=1.24.4 in /usr/local/lib/python3.11/dist-packages (from albumentations) (2.0.2)\n",
            "Requirement already satisfied: scipy>=1.10.0 in /usr/local/lib/python3.11/dist-packages (from albumentations) (1.15.2)\n",
            "Requirement already satisfied: PyYAML in /usr/local/lib/python3.11/dist-packages (from albumentations) (6.0.2)\n",
            "Requirement already satisfied: pydantic>=2.9.2 in /usr/local/lib/python3.11/dist-packages (from albumentations) (2.11.3)\n",
            "Requirement already satisfied: albucore==0.0.23 in /usr/local/lib/python3.11/dist-packages (from albumentations) (0.0.23)\n",
            "Requirement already satisfied: opencv-python-headless>=4.9.0.80 in /usr/local/lib/python3.11/dist-packages (from albumentations) (4.11.0.86)\n",
            "Requirement already satisfied: stringzilla>=3.10.4 in /usr/local/lib/python3.11/dist-packages (from albucore==0.0.23->albumentations) (3.12.5)\n",
            "Requirement already satisfied: simsimd>=5.9.2 in /usr/local/lib/python3.11/dist-packages (from albucore==0.0.23->albumentations) (6.2.1)\n",
            "Requirement already satisfied: annotated-types>=0.6.0 in /usr/local/lib/python3.11/dist-packages (from pydantic>=2.9.2->albumentations) (0.7.0)\n",
            "Requirement already satisfied: pydantic-core==2.33.1 in /usr/local/lib/python3.11/dist-packages (from pydantic>=2.9.2->albumentations) (2.33.1)\n",
            "Requirement already satisfied: typing-extensions>=4.12.2 in /usr/local/lib/python3.11/dist-packages (from pydantic>=2.9.2->albumentations) (4.13.2)\n",
            "Requirement already satisfied: typing-inspection>=0.4.0 in /usr/local/lib/python3.11/dist-packages (from pydantic>=2.9.2->albumentations) (0.4.0)\n"
          ]
        }
      ]
    },
    {
      "cell_type": "code",
      "source": [
        "import os\n",
        "\n",
        "# Print contents of each dataset folder\n",
        "print(\"\\n📂 Isotropic phase files:\")\n",
        "print(os.listdir(edwardotieno_isotropic_phase_path))\n",
        "\n",
        "print(\"\\n📂 Nematic phase files:\")\n",
        "print(os.listdir(edwardotieno_nematic_phase_path))\n",
        "\n",
        "print(\"\\n📂 Smectic phase files:\")\n",
        "print(os.listdir(edwardotieno_smectic_phase_path))\n"
      ],
      "metadata": {
        "id": "mXJXruDDoCM9",
        "outputId": "ec63568c-0f5b-4403-bf37-1d00967133fd",
        "colab": {
          "base_uri": "https://localhost:8080/"
        }
      },
      "execution_count": 9,
      "outputs": [
        {
          "output_type": "stream",
          "name": "stdout",
          "text": [
            "\n",
            "📂 Isotropic phase files:\n",
            "['5cb_temp_40.00_copy_0009.jpeg', '5cb_temp_39.00_copy_0002.jpeg', '5cb_temp_37.00_copy_0007.jpeg', '5cb_temp_37.00_copy_0004.jpeg', '5cb_temp_39.50_copy_0005.jpeg', '5cb_temp_40.00_copy_0007.jpeg', '5cb_temp_37.00_copy_0006.jpeg', '5cb_temp_36.00_copy_0005.jpeg', '5cb_temp_37.50_copy_0001.jpeg', '5cb_temp_36.00_copy_0001.jpeg', '5cb_temp_37.00_copy_0002.jpeg', '5cb_temp_36.00_copy_0004.jpeg', '5cb_temp_39.00_copy_0003.jpeg', '5cb_temp_37.00_copy_0005.jpeg', '5cb_temp_40.00_copy_0008.jpeg', '5cb_temp_40.00_copy_0003.jpeg', '5cb_temp_37.00_copy_0008.jpeg', '5cb_temp_39.00_copy_0001.jpeg', '5cb_temp_37.50_copy_0004.jpeg', '5cb_temp_37.10_copy_0003.jpeg', '5cb_temp_36.00_copy_0002.jpeg', '5cb_temp_37.00_copy_0009.jpeg', '5cb_temp_40.00_copy_0004.jpeg', '5cb_temp_37.10_copy_0005.jpeg', '5cb_temp_37.50_copy_0002.jpeg', '5cb_temp_39.00_copy_0005.jpeg', '5cb_temp_40.00_copy_0005.jpeg', '5cb_temp_37.00_copy_0010.jpeg', '5cb_temp_36.00_copy_0006.jpeg', '5cb_temp_37.10_copy_0006.jpeg', '5cb_temp_37.00_copy_0001.jpeg', '5cb_temp_40.00_copy_0002.jpeg', '5cb_temp_40.00_copy_0001.jpeg', '5cb_temp_37.10_copy_0002.jpeg', '5cb_temp_39.50_copy_0004.jpeg', '5cb_temp_37.10_copy_0004.jpeg', '5cb_temp_37.50_copy_0005.jpeg', '5cb_temp_39.00_copy_0004.jpeg']\n",
            "\n",
            "📂 Nematic phase files:\n",
            "['5cb_temp_27.50_copy_0003.jpeg', '5cb_temp_26.50_copy_0005.jpeg', '5cb_temp_25.50_copy_0003.jpeg', '5cb_temp_27.50_copy_0004.jpeg', '5cb_temp_27.50_copy_0002.jpeg', '5cb_temp_26.50_copy_0002.jpeg', '5cb_temp_26.50_copy_0004.jpeg', '5cb_temp_25.50_copy_0002.jpeg', '5cb_temp_25.50_copy_0005.jpeg', '5cb_temp_27.50_copy_0005.jpeg', '5cb_temp_25.50_copy_0004.jpeg', '5cb_temp_25.50_copy_0001.jpeg', '5cb_temp_27.50_copy_0001.jpeg', '5cb_temp_26.50_copy_0001.jpeg']\n",
            "\n",
            "📂 Smectic phase files:\n",
            "['5cb_temp_32.6111.jpeg', '5cb_temp_32.1515.jpeg', '5cb_temp_34.1212.jpeg', '5cb_temp_36.3889.jpeg', '5cb_temp_34.9747.jpeg', '5cb_temp_31.9545.jpeg', '5cb_temp_31.7576.jpeg', '5cb_temp_36.8333.jpeg', '5cb_temp_35.4343 (1).jpeg', '5cb_temp_35.9444.jpeg', '5cb_temp_34.4495.jpeg', '5cb_temp_30.2475.jpeg', '5cb_temp_34.5152.jpeg', '5cb_temp_32.0202.jpeg', '5cb_temp_30.0505.jpeg', '5cb_temp_32.8081.jpeg', '5cb_temp_35.3687.jpeg', '5cb_temp_36.3889 (1).jpeg', '5cb_temp_29.3283.jpeg', '5cb_temp_31.4293.jpeg', '5cb_temp_34.5808.jpeg', '5cb_temp_29.5253.jpeg', '5cb_temp_34.7778.jpeg', '5cb_temp_33.6616.jpeg', '5cb_temp_33.1364.jpeg', '5cb_temp_35.5000.jpeg', '5cb_temp_32.4798.jpeg', '5cb_temp_30.3131.jpeg', '5cb_temp_32.8737.jpeg', '5cb_temp_30.9040.jpeg', '5cb_temp_29.9848.jpeg', '5cb_temp_33.8586.jpeg', '5cb_temp_29.9192.jpeg', '5cb_temp_39.5000.jpeg', '5cb_temp_34.7121.jpeg', '5cb_temp_31.1667.jpeg', '5cb_temp_38.8333.jpeg', '5cb_temp_33.7929.jpeg', '5cb_temp_34.0556.jpeg', '5cb_temp_36.5000.jpeg', '5cb_temp_31.8889.jpeg', '5cb_temp_38.1667.jpeg', '5cb_temp_31.4949.jpeg', '5cb_temp_33.9242.jpeg', '5cb_temp_30.7727.jpeg', '5cb_temp_34.1869.jpeg', '5cb_temp_34.3838.jpeg', '5cb_temp_29.4596.jpeg', '5cb_temp_39.1667.jpeg', '5cb_temp_33.2677.jpeg', '5cb_temp_29.0000.jpeg', '5cb_temp_35.0404.jpeg', '5cb_temp_38.6111.jpeg', '5cb_temp_29.2626.jpeg', '5cb_temp_31.3636.jpeg', '5cb_temp_29.1313.jpeg', '5cb_temp_33.2020.jpeg', '5cb_temp_35.1717.jpeg', '5cb_temp_29.5909.jpeg', '5cb_temp_32.5455.jpeg', '5cb_temp_35.2374.jpeg', '5cb_temp_34.6465.jpeg', '5cb_temp_33.9899.jpeg', '5cb_temp_34.8434.jpeg', '5cb_temp_33.0051.jpeg', '5cb_temp_29.8535.jpeg', '5cb_temp_37.5000.jpeg', '5cb_temp_37.2778.jpeg', '5cb_temp_34.2525.jpeg', '5cb_temp_33.3990.jpeg', '5cb_temp_32.7424.jpeg', '5cb_temp_35.3030 (1).jpeg', '5cb_temp_30.1818.jpeg', '5cb_temp_32.0859.jpeg', '5cb_temp_31.5606.jpeg', '5cb_temp_30.8384.jpeg', '5cb_temp_32.2828.jpeg', '5cb_temp_33.5303.jpeg', '5cb_temp_31.1010.jpeg', '5cb_temp_37.7222.jpeg', '5cb_temp_35.4343.jpeg', '5cb_temp_29.7879.jpeg', '5cb_temp_33.3333.jpeg', '5cb_temp_34.9091.jpeg', '5cb_temp_32.2172.jpeg', '5cb_temp_38.5000.jpeg', '5cb_temp_30.9697.jpeg', '5cb_temp_29.0657.jpeg', '5cb_temp_32.3485.jpeg', '5cb_temp_31.8232.jpeg', '5cb_temp_35.1061.jpeg', '5cb_temp_33.7273.jpeg', '5cb_temp_37.1667.jpeg', '5cb_temp_31.6263.jpeg', '5cb_temp_29.6566.jpeg', '5cb_temp_29.7222.jpeg', '5cb_temp_35.3030.jpeg', '5cb_temp_34.3182.jpeg', '5cb_temp_31.6919.jpeg', '5cb_temp_33.5960.jpeg', '5cb_temp_30.1162.jpeg', '5cb_temp_31.2980.jpeg', '5cb_temp_31.0354.jpeg', '5cb_temp_29.1970.jpeg', '5cb_temp_31.2323.jpeg', '5cb_temp_32.6768.jpeg', '5cb_temp_29.3939.jpeg', '5cb_temp_37.8333.jpeg', '5cb_temp_31.6919 (1).jpeg']\n"
          ]
        }
      ]
    },
    {
      "cell_type": "code",
      "source": [
        "import os\n",
        "import random\n",
        "import cv2\n",
        "import numpy as np\n",
        "import albumentations as A\n",
        "\n",
        "# === Paths ===\n",
        "dataset_5CB_nematic = edwardotieno_nematic_phase_path\n",
        "dataset_5CB_isotropic =edwardotieno_isotropic_phase_path\n",
        "dataset_5CB_smectic =edwardotieno_smectic_phase_path\n",
        "output_path = \"/kaggle/working/liquid-crystal-augmented\"\n",
        "\n",
        "\n",
        "# === Categories ===\n",
        "categories = {\n",
        "    \"nematic\": dataset_5CB_nematic,\n",
        "    \"isotropic\": dataset_5CB_isotropic,\n",
        "    \"smectic\": dataset_5CB_smectic\n",
        "}\n",
        "\n",
        "# === Split ratios ===\n",
        "train_ratio = 0.7\n",
        "val_ratio = 0.2\n",
        "test_ratio = 0.1\n",
        "\n",
        "# === Create output folders ===\n",
        "for split in [\"train\", \"val\", \"test\"]:\n",
        "    for category in categories.keys():\n",
        "        os.makedirs(os.path.join(output_path, split, category), exist_ok=True)\n",
        "\n",
        "# === Define augmentation pipeline using Albumentations ===\n",
        "augmenter = A.Compose([\n",
        "    A.HorizontalFlip(p=0.5),\n",
        "    A.Rotate(limit=20, p=0.7),\n",
        "    A.RandomScale(scale_limit=0.2, p=0.5),\n",
        "    A.GaussNoise(var_limit=(10.0, 50.0), p=0.5),\n",
        "    A.RandomBrightnessContrast(p=0.5),\n",
        "    A.GaussianBlur(blur_limit=(3, 7), p=0.5)\n",
        "])\n",
        "\n",
        "# === Split and augment ===\n",
        "for category, source_folder in categories.items():\n",
        "    images = [f for f in os.listdir(source_folder) if f.lower().endswith(('.jpg', '.jpeg', '.png'))]\n",
        "    random.shuffle(images)\n",
        "\n",
        "    train_split = int(train_ratio * len(images))\n",
        "    val_split = int(val_ratio * len(images))\n",
        "\n",
        "    for i, img_name in enumerate(images):\n",
        "        img_path = os.path.join(source_folder, img_name)\n",
        "        img = cv2.imread(img_path)\n",
        "\n",
        "        if img is None:\n",
        "            print(f\"❌ Skipping unreadable image: {img_name}\")\n",
        "            continue\n",
        "\n",
        "        if i < train_split:\n",
        "            split = \"train\"\n",
        "        elif i < train_split + val_split:\n",
        "            split = \"val\"\n",
        "        else:\n",
        "            split = \"test\"\n",
        "\n",
        "        base_filename = f\"{category}_{i}\"\n",
        "        dst_dir = os.path.join(output_path, split, category)\n",
        "\n",
        "        # Save original image\n",
        "        original_path = os.path.join(dst_dir, f\"{base_filename}_orig.jpg\")\n",
        "        cv2.imwrite(original_path, img)\n",
        "\n",
        "        # Generate and save 9 augmented versions\n",
        "        for j in range(9):\n",
        "            augmented = augmenter(image=img)['image']\n",
        "            aug_path = os.path.join(dst_dir, f\"{base_filename}_aug{j+1}.jpg\")\n",
        "            cv2.imwrite(aug_path, augmented)\n",
        "\n",
        "        print(f\"✅ {split.upper()} - {category} - {img_name} processed\")\n",
        "\n",
        "print(f\"\\n🎉 Dataset split and augmented successfully at: {output_path}\")\n",
        "\n"
      ],
      "metadata": {
        "trusted": true,
        "execution": {
          "iopub.status.busy": "2025-04-30T15:41:10.361119Z",
          "iopub.execute_input": "2025-04-30T15:41:10.361672Z",
          "iopub.status.idle": "2025-04-30T16:13:32.066172Z",
          "shell.execute_reply.started": "2025-04-30T15:41:10.361648Z",
          "shell.execute_reply": "2025-04-30T16:13:32.064264Z"
        },
        "id": "qjfb67Zlk_vQ",
        "outputId": "a8439ea6-8187-442f-d5e7-d6159d166ffa",
        "colab": {
          "base_uri": "https://localhost:8080/"
        }
      },
      "outputs": [
        {
          "output_type": "stream",
          "name": "stderr",
          "text": [
            "/usr/local/lib/python3.11/dist-packages/albumentations/__init__.py:28: UserWarning: A new version of Albumentations is available: '2.0.6' (you have '2.0.5'). Upgrade using: pip install -U albumentations. To disable automatic update checks, set the environment variable NO_ALBUMENTATIONS_UPDATE to 1.\n",
            "  check_for_updates()\n",
            "<ipython-input-10-b375f1ec064e>:36: UserWarning: Argument(s) 'var_limit' are not valid for transform GaussNoise\n",
            "  A.GaussNoise(var_limit=(10.0, 50.0), p=0.5),\n"
          ]
        },
        {
          "output_type": "stream",
          "name": "stdout",
          "text": [
            "✅ TRAIN - nematic - 5cb_temp_25.50_copy_0002.jpeg processed\n",
            "✅ TRAIN - nematic - 5cb_temp_27.50_copy_0002.jpeg processed\n",
            "✅ TRAIN - nematic - 5cb_temp_26.50_copy_0002.jpeg processed\n",
            "✅ TRAIN - nematic - 5cb_temp_25.50_copy_0001.jpeg processed\n",
            "✅ TRAIN - nematic - 5cb_temp_26.50_copy_0001.jpeg processed\n",
            "✅ TRAIN - nematic - 5cb_temp_25.50_copy_0003.jpeg processed\n",
            "✅ TRAIN - nematic - 5cb_temp_25.50_copy_0004.jpeg processed\n",
            "✅ TRAIN - nematic - 5cb_temp_26.50_copy_0004.jpeg processed\n",
            "✅ TRAIN - nematic - 5cb_temp_27.50_copy_0001.jpeg processed\n",
            "✅ VAL - nematic - 5cb_temp_25.50_copy_0005.jpeg processed\n",
            "✅ VAL - nematic - 5cb_temp_27.50_copy_0005.jpeg processed\n",
            "✅ TEST - nematic - 5cb_temp_27.50_copy_0003.jpeg processed\n",
            "✅ TEST - nematic - 5cb_temp_27.50_copy_0004.jpeg processed\n",
            "✅ TEST - nematic - 5cb_temp_26.50_copy_0005.jpeg processed\n",
            "✅ TRAIN - isotropic - 5cb_temp_37.50_copy_0001.jpeg processed\n",
            "✅ TRAIN - isotropic - 5cb_temp_39.00_copy_0004.jpeg processed\n",
            "✅ TRAIN - isotropic - 5cb_temp_37.10_copy_0006.jpeg processed\n",
            "✅ TRAIN - isotropic - 5cb_temp_37.10_copy_0003.jpeg processed\n",
            "✅ TRAIN - isotropic - 5cb_temp_36.00_copy_0006.jpeg processed\n",
            "✅ TRAIN - isotropic - 5cb_temp_37.00_copy_0004.jpeg processed\n",
            "✅ TRAIN - isotropic - 5cb_temp_37.10_copy_0005.jpeg processed\n",
            "✅ TRAIN - isotropic - 5cb_temp_37.50_copy_0005.jpeg processed\n",
            "✅ TRAIN - isotropic - 5cb_temp_39.00_copy_0001.jpeg processed\n",
            "✅ TRAIN - isotropic - 5cb_temp_37.00_copy_0001.jpeg processed\n",
            "✅ TRAIN - isotropic - 5cb_temp_37.00_copy_0002.jpeg processed\n",
            "✅ TRAIN - isotropic - 5cb_temp_37.10_copy_0004.jpeg processed\n",
            "✅ TRAIN - isotropic - 5cb_temp_37.00_copy_0010.jpeg processed\n",
            "✅ TRAIN - isotropic - 5cb_temp_36.00_copy_0001.jpeg processed\n",
            "✅ TRAIN - isotropic - 5cb_temp_37.50_copy_0004.jpeg processed\n",
            "✅ TRAIN - isotropic - 5cb_temp_37.00_copy_0005.jpeg processed\n",
            "✅ TRAIN - isotropic - 5cb_temp_40.00_copy_0002.jpeg processed\n",
            "✅ TRAIN - isotropic - 5cb_temp_40.00_copy_0007.jpeg processed\n",
            "✅ TRAIN - isotropic - 5cb_temp_39.50_copy_0004.jpeg processed\n",
            "✅ TRAIN - isotropic - 5cb_temp_36.00_copy_0004.jpeg processed\n",
            "✅ TRAIN - isotropic - 5cb_temp_40.00_copy_0003.jpeg processed\n",
            "✅ TRAIN - isotropic - 5cb_temp_37.00_copy_0006.jpeg processed\n",
            "✅ TRAIN - isotropic - 5cb_temp_39.50_copy_0005.jpeg processed\n",
            "✅ TRAIN - isotropic - 5cb_temp_40.00_copy_0004.jpeg processed\n",
            "✅ TRAIN - isotropic - 5cb_temp_37.00_copy_0009.jpeg processed\n",
            "✅ TRAIN - isotropic - 5cb_temp_40.00_copy_0009.jpeg processed\n",
            "✅ VAL - isotropic - 5cb_temp_37.00_copy_0008.jpeg processed\n",
            "✅ VAL - isotropic - 5cb_temp_37.10_copy_0002.jpeg processed\n",
            "✅ VAL - isotropic - 5cb_temp_37.50_copy_0002.jpeg processed\n",
            "✅ VAL - isotropic - 5cb_temp_40.00_copy_0005.jpeg processed\n",
            "✅ VAL - isotropic - 5cb_temp_39.00_copy_0002.jpeg processed\n",
            "✅ VAL - isotropic - 5cb_temp_40.00_copy_0008.jpeg processed\n",
            "✅ VAL - isotropic - 5cb_temp_36.00_copy_0005.jpeg processed\n",
            "✅ TEST - isotropic - 5cb_temp_36.00_copy_0002.jpeg processed\n",
            "✅ TEST - isotropic - 5cb_temp_40.00_copy_0001.jpeg processed\n",
            "✅ TEST - isotropic - 5cb_temp_39.00_copy_0003.jpeg processed\n",
            "✅ TEST - isotropic - 5cb_temp_37.00_copy_0007.jpeg processed\n",
            "✅ TEST - isotropic - 5cb_temp_39.00_copy_0005.jpeg processed\n",
            "✅ TRAIN - smectic - 5cb_temp_34.9091.jpeg processed\n",
            "✅ TRAIN - smectic - 5cb_temp_32.5455.jpeg processed\n",
            "✅ TRAIN - smectic - 5cb_temp_32.6768.jpeg processed\n",
            "✅ TRAIN - smectic - 5cb_temp_35.3030.jpeg processed\n",
            "✅ TRAIN - smectic - 5cb_temp_31.7576.jpeg processed\n",
            "✅ TRAIN - smectic - 5cb_temp_29.6566.jpeg processed\n",
            "✅ TRAIN - smectic - 5cb_temp_33.0051.jpeg processed\n",
            "✅ TRAIN - smectic - 5cb_temp_35.2374.jpeg processed\n",
            "✅ TRAIN - smectic - 5cb_temp_36.3889.jpeg processed\n",
            "✅ TRAIN - smectic - 5cb_temp_37.5000.jpeg processed\n",
            "✅ TRAIN - smectic - 5cb_temp_32.2828.jpeg processed\n",
            "✅ TRAIN - smectic - 5cb_temp_30.2475.jpeg processed\n",
            "✅ TRAIN - smectic - 5cb_temp_29.1313.jpeg processed\n",
            "✅ TRAIN - smectic - 5cb_temp_32.0202.jpeg processed\n",
            "✅ TRAIN - smectic - 5cb_temp_29.8535.jpeg processed\n",
            "✅ TRAIN - smectic - 5cb_temp_35.9444.jpeg processed\n",
            "✅ TRAIN - smectic - 5cb_temp_33.3333.jpeg processed\n",
            "✅ TRAIN - smectic - 5cb_temp_29.4596.jpeg processed\n",
            "✅ TRAIN - smectic - 5cb_temp_32.8081.jpeg processed\n",
            "✅ TRAIN - smectic - 5cb_temp_32.6111.jpeg processed\n",
            "✅ TRAIN - smectic - 5cb_temp_34.3838.jpeg processed\n",
            "✅ TRAIN - smectic - 5cb_temp_33.7273.jpeg processed\n",
            "✅ TRAIN - smectic - 5cb_temp_34.2525.jpeg processed\n",
            "✅ TRAIN - smectic - 5cb_temp_29.3283.jpeg processed\n",
            "✅ TRAIN - smectic - 5cb_temp_29.2626.jpeg processed\n",
            "✅ TRAIN - smectic - 5cb_temp_34.8434.jpeg processed\n",
            "✅ TRAIN - smectic - 5cb_temp_34.5152.jpeg processed\n",
            "✅ TRAIN - smectic - 5cb_temp_36.5000.jpeg processed\n",
            "✅ TRAIN - smectic - 5cb_temp_31.2323.jpeg processed\n",
            "✅ TRAIN - smectic - 5cb_temp_31.4949.jpeg processed\n",
            "✅ TRAIN - smectic - 5cb_temp_37.1667.jpeg processed\n",
            "✅ TRAIN - smectic - 5cb_temp_35.1061.jpeg processed\n",
            "✅ TRAIN - smectic - 5cb_temp_33.9899.jpeg processed\n",
            "✅ TRAIN - smectic - 5cb_temp_31.6919.jpeg processed\n",
            "✅ TRAIN - smectic - 5cb_temp_31.4293.jpeg processed\n",
            "✅ TRAIN - smectic - 5cb_temp_31.0354.jpeg processed\n",
            "✅ TRAIN - smectic - 5cb_temp_32.4798.jpeg processed\n",
            "✅ TRAIN - smectic - 5cb_temp_31.9545.jpeg processed\n",
            "✅ TRAIN - smectic - 5cb_temp_33.3990.jpeg processed\n",
            "✅ TRAIN - smectic - 5cb_temp_33.2677.jpeg processed\n",
            "✅ TRAIN - smectic - 5cb_temp_29.9848.jpeg processed\n",
            "✅ TRAIN - smectic - 5cb_temp_32.8737.jpeg processed\n",
            "✅ TRAIN - smectic - 5cb_temp_34.3182.jpeg processed\n",
            "✅ TRAIN - smectic - 5cb_temp_34.7778.jpeg processed\n",
            "✅ TRAIN - smectic - 5cb_temp_30.8384.jpeg processed\n",
            "✅ TRAIN - smectic - 5cb_temp_35.3687.jpeg processed\n",
            "✅ TRAIN - smectic - 5cb_temp_33.5303.jpeg processed\n",
            "✅ TRAIN - smectic - 5cb_temp_30.1818.jpeg processed\n",
            "✅ TRAIN - smectic - 5cb_temp_31.1667.jpeg processed\n",
            "✅ TRAIN - smectic - 5cb_temp_29.7222.jpeg processed\n",
            "✅ TRAIN - smectic - 5cb_temp_33.9242.jpeg processed\n",
            "✅ TRAIN - smectic - 5cb_temp_30.3131.jpeg processed\n",
            "✅ TRAIN - smectic - 5cb_temp_30.9697.jpeg processed\n",
            "✅ TRAIN - smectic - 5cb_temp_29.5253.jpeg processed\n",
            "✅ TRAIN - smectic - 5cb_temp_33.1364.jpeg processed\n",
            "✅ TRAIN - smectic - 5cb_temp_34.7121.jpeg processed\n",
            "✅ TRAIN - smectic - 5cb_temp_29.0000.jpeg processed\n",
            "✅ TRAIN - smectic - 5cb_temp_34.0556.jpeg processed\n",
            "✅ TRAIN - smectic - 5cb_temp_33.2020.jpeg processed\n",
            "✅ TRAIN - smectic - 5cb_temp_35.4343 (1).jpeg processed\n",
            "✅ TRAIN - smectic - 5cb_temp_30.0505.jpeg processed\n",
            "✅ TRAIN - smectic - 5cb_temp_32.0859.jpeg processed\n",
            "✅ TRAIN - smectic - 5cb_temp_34.4495.jpeg processed\n",
            "✅ TRAIN - smectic - 5cb_temp_32.3485.jpeg processed\n",
            "✅ TRAIN - smectic - 5cb_temp_29.7879.jpeg processed\n",
            "✅ TRAIN - smectic - 5cb_temp_29.5909.jpeg processed\n",
            "✅ TRAIN - smectic - 5cb_temp_33.6616.jpeg processed\n",
            "✅ TRAIN - smectic - 5cb_temp_32.1515.jpeg processed\n",
            "✅ TRAIN - smectic - 5cb_temp_29.1970.jpeg processed\n",
            "✅ TRAIN - smectic - 5cb_temp_35.0404.jpeg processed\n",
            "✅ TRAIN - smectic - 5cb_temp_33.7929.jpeg processed\n",
            "✅ TRAIN - smectic - 5cb_temp_31.2980.jpeg processed\n",
            "✅ TRAIN - smectic - 5cb_temp_33.5960.jpeg processed\n",
            "✅ TRAIN - smectic - 5cb_temp_31.1010.jpeg processed\n",
            "✅ TRAIN - smectic - 5cb_temp_30.1162.jpeg processed\n",
            "✅ TRAIN - smectic - 5cb_temp_31.8232.jpeg processed\n",
            "✅ VAL - smectic - 5cb_temp_34.1869.jpeg processed\n",
            "✅ VAL - smectic - 5cb_temp_29.9192.jpeg processed\n",
            "✅ VAL - smectic - 5cb_temp_36.3889 (1).jpeg processed\n",
            "✅ VAL - smectic - 5cb_temp_34.9747.jpeg processed\n",
            "✅ VAL - smectic - 5cb_temp_31.6919 (1).jpeg processed\n",
            "✅ VAL - smectic - 5cb_temp_30.7727.jpeg processed\n",
            "✅ VAL - smectic - 5cb_temp_31.3636.jpeg processed\n",
            "✅ VAL - smectic - 5cb_temp_39.1667.jpeg processed\n",
            "✅ VAL - smectic - 5cb_temp_38.6111.jpeg processed\n",
            "✅ VAL - smectic - 5cb_temp_37.7222.jpeg processed\n",
            "✅ VAL - smectic - 5cb_temp_34.5808.jpeg processed\n",
            "✅ VAL - smectic - 5cb_temp_34.6465.jpeg processed\n",
            "✅ VAL - smectic - 5cb_temp_38.1667.jpeg processed\n",
            "✅ VAL - smectic - 5cb_temp_32.7424.jpeg processed\n",
            "✅ VAL - smectic - 5cb_temp_37.2778.jpeg processed\n",
            "✅ VAL - smectic - 5cb_temp_32.2172.jpeg processed\n",
            "✅ VAL - smectic - 5cb_temp_38.8333.jpeg processed\n",
            "✅ VAL - smectic - 5cb_temp_33.8586.jpeg processed\n",
            "✅ VAL - smectic - 5cb_temp_35.1717.jpeg processed\n",
            "✅ VAL - smectic - 5cb_temp_35.4343.jpeg processed\n",
            "✅ VAL - smectic - 5cb_temp_29.0657.jpeg processed\n",
            "✅ TEST - smectic - 5cb_temp_35.3030 (1).jpeg processed\n",
            "✅ TEST - smectic - 5cb_temp_36.8333.jpeg processed\n",
            "✅ TEST - smectic - 5cb_temp_31.6263.jpeg processed\n",
            "✅ TEST - smectic - 5cb_temp_37.8333.jpeg processed\n",
            "✅ TEST - smectic - 5cb_temp_35.5000.jpeg processed\n",
            "✅ TEST - smectic - 5cb_temp_31.5606.jpeg processed\n",
            "✅ TEST - smectic - 5cb_temp_34.1212.jpeg processed\n",
            "✅ TEST - smectic - 5cb_temp_38.5000.jpeg processed\n",
            "✅ TEST - smectic - 5cb_temp_39.5000.jpeg processed\n",
            "✅ TEST - smectic - 5cb_temp_31.8889.jpeg processed\n",
            "✅ TEST - smectic - 5cb_temp_29.3939.jpeg processed\n",
            "✅ TEST - smectic - 5cb_temp_30.9040.jpeg processed\n",
            "\n",
            "🎉 Dataset split and augmented successfully at: /kaggle/working/liquid-crystal-augmented\n"
          ]
        }
      ],
      "execution_count": 10
    },
    {
      "cell_type": "code",
      "source": [
        "print(\"\\n📁 Dataset Split Summary:\")\n",
        "for split in [\"train\", \"val\", \"test\"]:\n",
        "    print(f\"\\n🔹 {split.upper()} SET\")\n",
        "    for category in categories.keys():\n",
        "        folder_path = os.path.join(output_path, split, category)\n",
        "        num_images = len(os.listdir(folder_path))\n",
        "        print(f\"  - {category}: {num_images} images\")"
      ],
      "metadata": {
        "trusted": true,
        "execution": {
          "iopub.status.busy": "2025-04-30T16:13:32.068635Z",
          "iopub.execute_input": "2025-04-30T16:13:32.072819Z",
          "iopub.status.idle": "2025-04-30T16:13:32.084066Z",
          "shell.execute_reply.started": "2025-04-30T16:13:32.072742Z",
          "shell.execute_reply": "2025-04-30T16:13:32.082997Z"
        },
        "id": "byD-GnbSk_vT",
        "outputId": "5fcbfd55-2503-44be-ea09-8f2336877f90",
        "colab": {
          "base_uri": "https://localhost:8080/"
        }
      },
      "outputs": [
        {
          "output_type": "stream",
          "name": "stdout",
          "text": [
            "\n",
            "📁 Dataset Split Summary:\n",
            "\n",
            "🔹 TRAIN SET\n",
            "  - nematic: 90 images\n",
            "  - isotropic: 260 images\n",
            "  - smectic: 760 images\n",
            "\n",
            "🔹 VAL SET\n",
            "  - nematic: 20 images\n",
            "  - isotropic: 70 images\n",
            "  - smectic: 210 images\n",
            "\n",
            "🔹 TEST SET\n",
            "  - nematic: 30 images\n",
            "  - isotropic: 50 images\n",
            "  - smectic: 120 images\n"
          ]
        }
      ],
      "execution_count": 11
    },
    {
      "cell_type": "code",
      "source": [
        "import os\n",
        "import torch\n",
        "import torch.nn as nn\n",
        "import torch.optim as optim\n",
        "from torchvision import datasets, models, transforms\n",
        "from torch.utils.data import DataLoader, WeightedRandomSampler\n",
        "from sklearn.metrics import confusion_matrix, classification_report, f1_score\n",
        "import matplotlib.pyplot as plt\n",
        "import seaborn as sns\n",
        "\n",
        "# Device setup\n",
        "device = torch.device(\"cuda\" if torch.cuda.is_available() else \"cpu\")\n",
        "\n",
        "# Paths\n",
        "data_dir = \"/kaggle/working/liquid-crystal-augmented\"\n",
        "\n",
        "# Transforms\n",
        "transform = {\n",
        "    'train': transforms.Compose([\n",
        "        transforms.Resize((224, 224)),\n",
        "        transforms.RandomHorizontalFlip(),\n",
        "        transforms.ToTensor(),\n",
        "        transforms.Normalize([0.5], [0.5])\n",
        "    ]),\n",
        "    'val': transforms.Compose([\n",
        "        transforms.Resize((224, 224)),\n",
        "        transforms.ToTensor(),\n",
        "        transforms.Normalize([0.5], [0.5])\n",
        "    ]),\n",
        "    'test': transforms.Compose([\n",
        "        transforms.Resize((224, 224)),\n",
        "        transforms.ToTensor(),\n",
        "        transforms.Normalize([0.5], [0.5])\n",
        "    ]),\n",
        "}"
      ],
      "metadata": {
        "trusted": true,
        "execution": {
          "iopub.status.busy": "2025-04-30T16:13:32.085334Z",
          "iopub.execute_input": "2025-04-30T16:13:32.085672Z",
          "iopub.status.idle": "2025-04-30T16:13:40.839324Z",
          "shell.execute_reply.started": "2025-04-30T16:13:32.085642Z",
          "shell.execute_reply": "2025-04-30T16:13:40.838492Z"
        },
        "id": "uv6Eqqxvk_vW"
      },
      "outputs": [],
      "execution_count": 12
    },
    {
      "cell_type": "markdown",
      "source": [
        "Here the images were transformed to tensor after resizing ensuring normalized and reduced computation time with reasonable trainable parameters"
      ],
      "metadata": {
        "id": "au5odnWRk_vc"
      }
    },
    {
      "cell_type": "code",
      "source": [
        "datasets_dict = {\n",
        "    split: datasets.ImageFolder(os.path.join(data_dir, split), transform=transform[split])\n",
        "    for split in ['train', 'val', 'test']\n",
        "}\n",
        "\n",
        "class_names = datasets_dict['train'].classes\n",
        "print(\"Classes:\", class_names)"
      ],
      "metadata": {
        "trusted": true,
        "execution": {
          "iopub.status.busy": "2025-04-30T16:13:40.840306Z",
          "iopub.execute_input": "2025-04-30T16:13:40.840931Z",
          "iopub.status.idle": "2025-04-30T16:13:40.854256Z",
          "shell.execute_reply.started": "2025-04-30T16:13:40.840897Z",
          "shell.execute_reply": "2025-04-30T16:13:40.85316Z"
        },
        "id": "BQvGPXn7k_vh",
        "outputId": "fc39a639-a95b-4b90-e12e-35e3cb8668ac",
        "colab": {
          "base_uri": "https://localhost:8080/"
        }
      },
      "outputs": [
        {
          "output_type": "stream",
          "name": "stdout",
          "text": [
            "Classes: ['isotropic', 'nematic', 'smectic']\n"
          ]
        }
      ],
      "execution_count": 13
    },
    {
      "cell_type": "code",
      "source": [
        "label_counts = [0] * len(class_names)\n",
        "for _, label in datasets_dict['train']:\n",
        "    label_counts[label] += 1\n",
        "class_weights = [1.0 / label_counts[label] for _, label in datasets_dict['train']]\n",
        "sampler = WeightedRandomSampler(class_weights, num_samples=len(class_weights), replacement=True)\n"
      ],
      "metadata": {
        "trusted": true,
        "execution": {
          "iopub.status.busy": "2025-04-30T16:13:40.855276Z",
          "iopub.execute_input": "2025-04-30T16:13:40.85561Z",
          "iopub.status.idle": "2025-04-30T16:30:12.739271Z",
          "shell.execute_reply.started": "2025-04-30T16:13:40.855583Z",
          "shell.execute_reply": "2025-04-30T16:30:12.7379Z"
        },
        "id": "VF2izdw2k_vj"
      },
      "outputs": [],
      "execution_count": 14
    },
    {
      "cell_type": "markdown",
      "source": [
        "unbalanced  dataset for the three class but here we will SMOTE approach to ensure the model treat the classes fairly"
      ],
      "metadata": {
        "id": "t2CMjg_tk_vj"
      }
    },
    {
      "cell_type": "code",
      "source": [
        "# Dataloaders\n",
        "dataloaders = {\n",
        "    'train': DataLoader(datasets_dict['train'], batch_size=16, sampler=sampler),\n",
        "    'val': DataLoader(datasets_dict['val'], batch_size=16, shuffle=False),\n",
        "    'test': DataLoader(datasets_dict['test'], batch_size=16, shuffle=False)\n",
        "}\n"
      ],
      "metadata": {
        "trusted": true,
        "execution": {
          "iopub.status.busy": "2025-04-30T16:30:12.740668Z",
          "iopub.execute_input": "2025-04-30T16:30:12.741133Z",
          "iopub.status.idle": "2025-04-30T16:30:12.747964Z",
          "shell.execute_reply.started": "2025-04-30T16:30:12.741095Z",
          "shell.execute_reply": "2025-04-30T16:30:12.746881Z"
        },
        "id": "vXAgnjlsk_vp"
      },
      "outputs": [],
      "execution_count": 15
    },
    {
      "cell_type": "code",
      "source": [
        "# Model\n",
        "model = models.resnet50(pretrained=True)\n",
        "model.fc = nn.Linear(model.fc.in_features, len(class_names))\n",
        "model = model.to(device)\n",
        "model.device = device"
      ],
      "metadata": {
        "trusted": true,
        "execution": {
          "iopub.status.busy": "2025-04-30T16:30:12.750999Z",
          "iopub.execute_input": "2025-04-30T16:30:12.751324Z",
          "iopub.status.idle": "2025-04-30T16:30:14.242911Z",
          "shell.execute_reply.started": "2025-04-30T16:30:12.751302Z",
          "shell.execute_reply": "2025-04-30T16:30:14.241416Z"
        },
        "id": "1c4zJiiTk_vq",
        "outputId": "68f2f484-8ad6-45e5-d533-24a92dd7e779",
        "colab": {
          "base_uri": "https://localhost:8080/"
        }
      },
      "outputs": [
        {
          "output_type": "stream",
          "name": "stderr",
          "text": [
            "/usr/local/lib/python3.11/dist-packages/torchvision/models/_utils.py:208: UserWarning: The parameter 'pretrained' is deprecated since 0.13 and may be removed in the future, please use 'weights' instead.\n",
            "  warnings.warn(\n",
            "/usr/local/lib/python3.11/dist-packages/torchvision/models/_utils.py:223: UserWarning: Arguments other than a weight enum or `None` for 'weights' are deprecated since 0.13 and may be removed in the future. The current behavior is equivalent to passing `weights=ResNet50_Weights.IMAGENET1K_V1`. You can also use `weights=ResNet50_Weights.DEFAULT` to get the most up-to-date weights.\n",
            "  warnings.warn(msg)\n"
          ]
        }
      ],
      "execution_count": 16
    },
    {
      "cell_type": "code",
      "source": [
        "# Loss and Optimizer\n",
        "weights_tensor = torch.tensor(\n",
        "    [1.0 / label_counts[i] for i in range(len(class_names))],\n",
        "    dtype=torch.float\n",
        ").to(device)\n",
        "criterion = nn.CrossEntropyLoss(weight=weights_tensor)\n",
        "optimizer = optim.Adam(model.parameters(), lr=0.0005)"
      ],
      "metadata": {
        "trusted": true,
        "execution": {
          "iopub.status.busy": "2025-04-30T16:30:14.243965Z",
          "iopub.execute_input": "2025-04-30T16:30:14.244873Z",
          "iopub.status.idle": "2025-04-30T16:30:14.25221Z",
          "shell.execute_reply.started": "2025-04-30T16:30:14.244838Z",
          "shell.execute_reply": "2025-04-30T16:30:14.25112Z"
        },
        "id": "heeDbTt3k_vr"
      },
      "outputs": [],
      "execution_count": 17
    },
    {
      "cell_type": "code",
      "source": [
        "# Training Loop with live plotting\n",
        "def train_model(model, epochs=5):\n",
        "    train_losses, val_accuracies = [], []\n",
        "\n",
        "    for epoch in range(epochs):\n",
        "        print(f\"\\nEpoch {epoch+1}/{epochs}\")\n",
        "        model.train()\n",
        "        running_loss, correct = 0, 0\n",
        "\n",
        "        for images, labels in dataloaders['train']:\n",
        "            images, labels = images.to(model.device), labels.to(model.device)\n",
        "            optimizer.zero_grad()\n",
        "            outputs = model(images)\n",
        "            loss = criterion(outputs, labels)\n",
        "            loss.backward()\n",
        "            optimizer.step()\n",
        "\n",
        "            running_loss += loss.item()\n",
        "            _, preds = torch.max(outputs, 1)\n",
        "            correct += (preds == labels).sum().item()\n",
        "\n",
        "        train_loss = running_loss / len(dataloaders['train'])\n",
        "        train_acc = correct / len(datasets_dict['train'])\n",
        "        val_acc = evaluate_model(model, 'val')\n",
        "\n",
        "        train_losses.append(train_loss)\n",
        "        val_accuracies.append(val_acc)\n",
        "\n",
        "        print(f\"Train Loss: {train_loss:.4f} | Train Acc: {train_acc:.4f} | Val Acc: {val_acc:.4f}\")"
      ],
      "metadata": {
        "trusted": true,
        "execution": {
          "iopub.status.busy": "2025-04-30T16:30:14.253261Z",
          "iopub.execute_input": "2025-04-30T16:30:14.253706Z",
          "iopub.status.idle": "2025-04-30T16:30:14.288956Z",
          "shell.execute_reply.started": "2025-04-30T16:30:14.253673Z",
          "shell.execute_reply": "2025-04-30T16:30:14.287926Z"
        },
        "id": "Jf1Zz6Lik_vr"
      },
      "outputs": [],
      "execution_count": 19
    },
    {
      "cell_type": "code",
      "source": [
        "# Evaluation Function\n",
        "def evaluate_model(model, split):\n",
        "    model.eval()\n",
        "    correct = 0\n",
        "    with torch.no_grad():\n",
        "        for images, labels in dataloaders[split]:\n",
        "            images, labels = images.to(model.device), labels.to(model.device)\n",
        "            outputs = model(images)\n",
        "            _, preds = torch.max(outputs, 1)\n",
        "            correct += (preds == labels).sum().item()\n",
        "    return correct / len(datasets_dict[split])\n"
      ],
      "metadata": {
        "trusted": true,
        "execution": {
          "iopub.status.busy": "2025-04-30T16:30:14.290261Z",
          "iopub.execute_input": "2025-04-30T16:30:14.290597Z",
          "iopub.status.idle": "2025-04-30T16:30:14.307625Z",
          "shell.execute_reply.started": "2025-04-30T16:30:14.290571Z",
          "shell.execute_reply": "2025-04-30T16:30:14.306271Z"
        },
        "id": "Xnb6Jxlgk_vs"
      },
      "outputs": [],
      "execution_count": 20
    },
    {
      "cell_type": "code",
      "source": [
        "train_model(model, epochs=1)"
      ],
      "metadata": {
        "trusted": true,
        "execution": {
          "iopub.status.busy": "2025-04-30T16:30:14.308773Z",
          "iopub.execute_input": "2025-04-30T16:30:14.309182Z"
        },
        "id": "6XM39Kvzk_vs",
        "outputId": "5f382459-9f72-496b-f10d-0ed1a2b27763",
        "colab": {
          "base_uri": "https://localhost:8080/"
        }
      },
      "outputs": [
        {
          "output_type": "stream",
          "name": "stdout",
          "text": [
            "\n",
            "Epoch 1/1\n",
            "Train Loss: 0.0217 | Train Acc: 0.9919 | Val Acc: 1.0000\n"
          ]
        }
      ],
      "execution_count": 22
    },
    {
      "cell_type": "code",
      "source": [
        "def test_model(model):\n",
        "    model.eval()\n",
        "    all_preds = []\n",
        "    all_labels = []\n",
        "    with torch.no_grad():\n",
        "        for images, labels in dataloaders['test']:\n",
        "            images, labels = images.to(device), labels.to(device)\n",
        "            outputs = model(images)\n",
        "            _, preds = torch.max(outputs, 1)\n",
        "            all_preds.extend(preds.cpu())\n",
        "            all_labels.extend(labels.cpu())\n",
        "\n",
        "    print(\"\\nTest Classification Report:\")\n",
        "    print(classification_report(all_labels, all_preds, target_names=class_names))\n",
        "    print(\"F1 Score (macro):\", f1_score(all_labels, all_preds, average='macro'))\n",
        "\n",
        "    cm = confusion_matrix(all_labels, all_preds)\n",
        "    sns.heatmap(cm, annot=True, xticklabels=class_names, yticklabels=class_names, cmap=\"Blues\", fmt=\"d\")\n",
        "    plt.title(\"Confusion Matrix\")\n",
        "    plt.xlabel(\"Predicted\")\n",
        "    plt.ylabel(\"True\")\n",
        "    plt.show()\n",
        "\n",
        "# Run test\n",
        "test_model(model)\n"
      ],
      "metadata": {
        "trusted": true,
        "id": "f_1_cLx7k_vt",
        "outputId": "414a5161-96b5-4e6a-eba7-30754159cffe",
        "colab": {
          "base_uri": "https://localhost:8080/",
          "height": 708
        }
      },
      "outputs": [
        {
          "output_type": "stream",
          "name": "stdout",
          "text": [
            "\n",
            "Test Classification Report:\n",
            "              precision    recall  f1-score   support\n",
            "\n",
            "   isotropic       1.00      1.00      1.00        50\n",
            "     nematic       1.00      1.00      1.00        30\n",
            "     smectic       1.00      1.00      1.00       120\n",
            "\n",
            "    accuracy                           1.00       200\n",
            "   macro avg       1.00      1.00      1.00       200\n",
            "weighted avg       1.00      1.00      1.00       200\n",
            "\n",
            "F1 Score (macro): 1.0\n"
          ]
        },
        {
          "output_type": "display_data",
          "data": {
            "text/plain": [
              "<Figure size 640x480 with 2 Axes>"
            ],
            "image/png": "[encoded data removed]"
          },
          "metadata": {}
        }
      ],
      "execution_count": 23
    },
    {
      "cell_type": "code",
      "source": [
        "def train_model(model, epochs=1):\n",
        "    train_losses = []\n",
        "    val_accuracies = []\n",
        "\n",
        "    for epoch in range(epochs):\n",
        "        print(f\"\\nEpoch {epoch+1}/{epochs}\")\n",
        "        model.train()\n",
        "        train_loss, correct = 0, 0\n",
        "\n",
        "        for images, labels in dataloaders['train']:\n",
        "            images, labels = images.to(model.device), labels.to(model.device)\n",
        "            optimizer.zero_grad()\n",
        "            output = model(images)\n",
        "            loss = criterion(output, labels)\n",
        "            loss.backward()\n",
        "            optimizer.step()\n",
        "\n",
        "            train_loss += loss.item()\n",
        "            _, preds = torch.max(output, 1)\n",
        "            correct += (preds == labels).sum().item()\n",
        "\n",
        "        avg_train_loss = train_loss / len(dataloaders['train'])\n",
        "        val_acc = evaluate_model(model, 'val')\n",
        "\n",
        "        train_losses.append(avg_train_loss)\n",
        "        val_accuracies.append(val_acc)\n",
        "\n",
        "        print(f\"Train Loss: {avg_train_loss:.4f} | Train Acc: {correct/len(datasets_dict['train']):.4f} | Val Acc: {val_acc:.4f}\")\n",
        "\n",
        "    return train_losses, val_accuracies"
      ],
      "metadata": {
        "trusted": true,
        "id": "5jZAkqNRk_vt"
      },
      "outputs": [],
      "execution_count": 24
    },
    {
      "cell_type": "code",
      "source": [
        "train_losses, val_accuracies = train_model(model, epochs=1)"
      ],
      "metadata": {
        "trusted": true,
        "id": "N8FSbOLkk_vu",
        "outputId": "37162da2-829f-44f0-a716-add059df64c8",
        "colab": {
          "base_uri": "https://localhost:8080/"
        }
      },
      "outputs": [
        {
          "output_type": "stream",
          "name": "stdout",
          "text": [
            "\n",
            "Epoch 1/1\n",
            "Train Loss: 0.0054 | Train Acc: 0.9991 | Val Acc: 1.0000\n"
          ]
        }
      ],
      "execution_count": 25
    },
    {
      "cell_type": "code",
      "source": [
        "# Plotting training curves\n",
        "epochs_range = range(1, len(train_losses) + 1)\n",
        "\n",
        "plt.figure(figsize=(12,5))\n",
        "\n",
        "# Loss plot\n",
        "plt.subplot(1,2,1)\n",
        "plt.plot(epochs_range, train_losses, 'b-o', label='Training Loss')\n",
        "plt.xlabel('Epochs')\n",
        "plt.ylabel('Loss')\n",
        "plt.title('Training Loss')\n",
        "plt.grid(True)\n",
        "plt.legend()\n",
        "\n",
        "# Accuracy plot\n",
        "plt.subplot(1,2,2)\n",
        "plt.plot(epochs_range, [acc*100 for acc in val_accuracies], 'g-o', label='Validation Accuracy')\n",
        "plt.xlabel('Epochs')\n",
        "plt.ylabel('Accuracy (%)')\n",
        "plt.title('Validation Accuracy')\n",
        "plt.grid(True)\n",
        "plt.legend()\n",
        "\n",
        "plt.tight_layout()\n",
        "plt.show()"
      ],
      "metadata": {
        "trusted": true,
        "id": "AyJNCfAXk_vu",
        "outputId": "2d483856-4a87-4ac5-8cd3-cac11a82c004",
        "colab": {
          "base_uri": "https://localhost:8080/",
          "height": 472
        }
      },
      "outputs": [
        {
          "output_type": "display_data",
          "data": {
            "text/plain": [
              "<Figure size 1200x500 with 2 Axes>"
            ],
            "image/png": "[encoded data removed]"
          },
          "metadata": {}
        }
      ],
      "execution_count": 26
    },
    {
      "cell_type": "markdown",
      "source": [
        "from the loss plot over epochs -there is gradual spike indicating some hard examples of the liquid crystals phases during training which is reflected on validation accuracy"
      ],
      "metadata": {
        "id": "nj9eyr_ak_vv"
      }
    },
    {
      "cell_type": "code",
      "source": [
        "! pip install grad-cam"
      ],
      "metadata": {
        "trusted": true,
        "id": "6mzx0f7nk_vv",
        "outputId": "5b290264-d00a-49e0-8605-9ce19fe66ebf",
        "colab": {
          "base_uri": "https://localhost:8080/",
          "height": 1000
        }
      },
      "outputs": [
        {
          "output_type": "stream",
          "name": "stdout",
          "text": [
            "Collecting grad-cam\n",
            "  Downloading grad-cam-1.5.5.tar.gz (7.8 MB)\n",
            "\u001b[2K     \u001b[90m━━━━━━━━━━━━━━━━━━━━━━━━━━━━━━━━━━━━━━━━\u001b[0m \u001b[32m7.8/7.8 MB\u001b[0m \u001b[31m34.0 MB/s\u001b[0m eta \u001b[36m0:00:00\u001b[0m\n",
            "\u001b[?25h  Installing build dependencies ... \u001b[?25l\u001b[?25hdone\n",
            "  Getting requirements to build wheel ... \u001b[?25l\u001b[?25hdone\n",
            "  Preparing metadata (pyproject.toml) ... \u001b[?25l\u001b[?25hdone\n",
            "Requirement already satisfied: numpy in /usr/local/lib/python3.11/dist-packages (from grad-cam) (2.0.2)\n",
            "Requirement already satisfied: Pillow in /usr/local/lib/python3.11/dist-packages (from grad-cam) (11.2.1)\n",
            "Requirement already satisfied: torch>=1.7.1 in /usr/local/lib/python3.11/dist-packages (from grad-cam) (2.6.0+cu124)\n",
            "Requirement already satisfied: torchvision>=0.8.2 in /usr/local/lib/python3.11/dist-packages (from grad-cam) (0.21.0+cu124)\n",
            "Collecting ttach (from grad-cam)\n",
            "  Downloading ttach-0.0.3-py3-none-any.whl.metadata (5.2 kB)\n",
            "Requirement already satisfied: tqdm in /usr/local/lib/python3.11/dist-packages (from grad-cam) (4.67.1)\n",
            "Requirement already satisfied: opencv-python in /usr/local/lib/python3.11/dist-packages (from grad-cam) (4.11.0.86)\n",
            "Requirement already satisfied: matplotlib in /usr/local/lib/python3.11/dist-packages (from grad-cam) (3.10.0)\n",
            "Requirement already satisfied: scikit-learn in /usr/local/lib/python3.11/dist-packages (from grad-cam) (1.6.1)\n",
            "Requirement already satisfied: filelock in /usr/local/lib/python3.11/dist-packages (from torch>=1.7.1->grad-cam) (3.18.0)\n",
            "Requirement already satisfied: typing-extensions>=4.10.0 in /usr/local/lib/python3.11/dist-packages (from torch>=1.7.1->grad-cam) (4.13.2)\n",
            "Requirement already satisfied: networkx in /usr/local/lib/python3.11/dist-packages (from torch>=1.7.1->grad-cam) (3.4.2)\n",
            "Requirement already satisfied: jinja2 in /usr/local/lib/python3.11/dist-packages (from torch>=1.7.1->grad-cam) (3.1.6)\n",
            "Requirement already satisfied: fsspec in /usr/local/lib/python3.11/dist-packages (from torch>=1.7.1->grad-cam) (2025.3.2)\n",
            "Collecting nvidia-cuda-nvrtc-cu12==12.4.127 (from torch>=1.7.1->grad-cam)\n",
            "  Downloading nvidia_cuda_nvrtc_cu12-12.4.127-py3-none-manylinux2014_x86_64.whl.metadata (1.5 kB)\n",
            "Collecting nvidia-cuda-runtime-cu12==12.4.127 (from torch>=1.7.1->grad-cam)\n",
            "  Downloading nvidia_cuda_runtime_cu12-12.4.127-py3-none-manylinux2014_x86_64.whl.metadata (1.5 kB)\n",
            "Collecting nvidia-cuda-cupti-cu12==12.4.127 (from torch>=1.7.1->grad-cam)\n",
            "  Downloading nvidia_cuda_cupti_cu12-12.4.127-py3-none-manylinux2014_x86_64.whl.metadata (1.6 kB)\n",
            "Collecting nvidia-cudnn-cu12==9.1.0.70 (from torch>=1.7.1->grad-cam)\n",
            "  Downloading nvidia_cudnn_cu12-9.1.0.70-py3-none-manylinux2014_x86_64.whl.metadata (1.6 kB)\n",
            "Collecting nvidia-cublas-cu12==12.4.5.8 (from torch>=1.7.1->grad-cam)\n",
            "  Downloading nvidia_cublas_cu12-12.4.5.8-py3-none-manylinux2014_x86_64.whl.metadata (1.5 kB)\n",
            "Collecting nvidia-cufft-cu12==11.2.1.3 (from torch>=1.7.1->grad-cam)\n",
            "  Downloading nvidia_cufft_cu12-11.2.1.3-py3-none-manylinux2014_x86_64.whl.metadata (1.5 kB)\n",
            "Collecting nvidia-curand-cu12==10.3.5.147 (from torch>=1.7.1->grad-cam)\n",
            "  Downloading nvidia_curand_cu12-10.3.5.147-py3-none-manylinux2014_x86_64.whl.metadata (1.5 kB)\n",
            "Collecting nvidia-cusolver-cu12==11.6.1.9 (from torch>=1.7.1->grad-cam)\n",
            "  Downloading nvidia_cusolver_cu12-11.6.1.9-py3-none-manylinux2014_x86_64.whl.metadata (1.6 kB)\n",
            "Collecting nvidia-cusparse-cu12==12.3.1.170 (from torch>=1.7.1->grad-cam)\n",
            "  Downloading nvidia_cusparse_cu12-12.3.1.170-py3-none-manylinux2014_x86_64.whl.metadata (1.6 kB)\n",
            "Requirement already satisfied: nvidia-cusparselt-cu12==0.6.2 in /usr/local/lib/python3.11/dist-packages (from torch>=1.7.1->grad-cam) (0.6.2)\n",
            "Requirement already satisfied: nvidia-nccl-cu12==2.21.5 in /usr/local/lib/python3.11/dist-packages (from torch>=1.7.1->grad-cam) (2.21.5)\n",
            "Requirement already satisfied: nvidia-nvtx-cu12==12.4.127 in /usr/local/lib/python3.11/dist-packages (from torch>=1.7.1->grad-cam) (12.4.127)\n",
            "Collecting nvidia-nvjitlink-cu12==12.4.127 (from torch>=1.7.1->grad-cam)\n",
            "  Downloading nvidia_nvjitlink_cu12-12.4.127-py3-none-manylinux2014_x86_64.whl.metadata (1.5 kB)\n",
            "Requirement already satisfied: triton==3.2.0 in /usr/local/lib/python3.11/dist-packages (from torch>=1.7.1->grad-cam) (3.2.0)\n",
            "Requirement already satisfied: sympy==1.13.1 in /usr/local/lib/python3.11/dist-packages (from torch>=1.7.1->grad-cam) (1.13.1)\n",
            "Requirement already satisfied: mpmath<1.4,>=1.1.0 in /usr/local/lib/python3.11/dist-packages (from sympy==1.13.1->torch>=1.7.1->grad-cam) (1.3.0)\n",
            "Requirement already satisfied: contourpy>=1.0.1 in /usr/local/lib/python3.11/dist-packages (from matplotlib->grad-cam) (1.3.2)\n",
            "Requirement already satisfied: cycler>=0.10 in /usr/local/lib/python3.11/dist-packages (from matplotlib->grad-cam) (0.12.1)\n",
            "Requirement already satisfied: fonttools>=4.22.0 in /usr/local/lib/python3.11/dist-packages (from matplotlib->grad-cam) (4.57.0)\n",
            "Requirement already satisfied: kiwisolver>=1.3.1 in /usr/local/lib/python3.11/dist-packages (from matplotlib->grad-cam) (1.4.8)\n",
            "Requirement already satisfied: packaging>=20.0 in /usr/local/lib/python3.11/dist-packages (from matplotlib->grad-cam) (24.2)\n",
            "Requirement already satisfied: pyparsing>=2.3.1 in /usr/local/lib/python3.11/dist-packages (from matplotlib->grad-cam) (3.2.3)\n",
            "Requirement already satisfied: python-dateutil>=2.7 in /usr/local/lib/python3.11/dist-packages (from matplotlib->grad-cam) (2.9.0.post0)\n",
            "Requirement already satisfied: scipy>=1.6.0 in /usr/local/lib/python3.11/dist-packages (from scikit-learn->grad-cam) (1.15.2)\n",
            "Requirement already satisfied: joblib>=1.2.0 in /usr/local/lib/python3.11/dist-packages (from scikit-learn->grad-cam) (1.4.2)\n",
            "Requirement already satisfied: threadpoolctl>=3.1.0 in /usr/local/lib/python3.11/dist-packages (from scikit-learn->grad-cam) (3.6.0)\n",
            "Requirement already satisfied: six>=1.5 in /usr/local/lib/python3.11/dist-packages (from python-dateutil>=2.7->matplotlib->grad-cam) (1.17.0)\n",
            "Requirement already satisfied: MarkupSafe>=2.0 in /usr/local/lib/python3.11/dist-packages (from jinja2->torch>=1.7.1->grad-cam) (3.0.2)\n",
            "Downloading nvidia_cublas_cu12-12.4.5.8-py3-none-manylinux2014_x86_64.whl (363.4 MB)\n",
            "\u001b[2K   \u001b[90m━━━━━━━━━━━━━━━━━━━━━━━━━━━━━━━━━━━━━━━━\u001b[0m \u001b[32m363.4/363.4 MB\u001b[0m \u001b[31m1.5 MB/s\u001b[0m eta \u001b[36m0:00:00\u001b[0m\n",
            "\u001b[?25hDownloading nvidia_cuda_cupti_cu12-12.4.127-py3-none-manylinux2014_x86_64.whl (13.8 MB)\n",
            "\u001b[2K   \u001b[90m━━━━━━━━━━━━━━━━━━━━━━━━━━━━━━━━━━━━━━━━\u001b[0m \u001b[32m13.8/13.8 MB\u001b[0m \u001b[31m77.3 MB/s\u001b[0m eta \u001b[36m0:00:00\u001b[0m\n",
            "\u001b[?25hDownloading nvidia_cuda_nvrtc_cu12-12.4.127-py3-none-manylinux2014_x86_64.whl (24.6 MB)\n",
            "\u001b[2K   \u001b[90m━━━━━━━━━━━━━━━━━━━━━━━━━━━━━━━━━━━━━━━━\u001b[0m \u001b[32m24.6/24.6 MB\u001b[0m \u001b[31m21.4 MB/s\u001b[0m eta \u001b[36m0:00:00\u001b[0m\n",
            "\u001b[?25hDownloading nvidia_cuda_runtime_cu12-12.4.127-py3-none-manylinux2014_x86_64.whl (883 kB)\n",
            "\u001b[2K   \u001b[90m━━━━━━━━━━━━━━━━━━━━━━━━━━━━━━━━━━━━━━━━\u001b[0m \u001b[32m883.7/883.7 kB\u001b[0m \u001b[31m30.0 MB/s\u001b[0m eta \u001b[36m0:00:00\u001b[0m\n",
            "\u001b[?25hDownloading nvidia_cudnn_cu12-9.1.0.70-py3-none-manylinux2014_x86_64.whl (664.8 MB)\n",
            "\u001b[2K   \u001b[90m━━━━━━━━━━━━━━━━━━━━━━━━━━━━━━━━━━━━━━━\u001b[0m \u001b[32m664.8/664.8 MB\u001b[0m \u001b[31m532.8 kB/s\u001b[0m eta \u001b[36m0:00:00\u001b[0m\n",
            "\u001b[?25hDownloading nvidia_cufft_cu12-11.2.1.3-py3-none-manylinux2014_x86_64.whl (211.5 MB)\n",
            "\u001b[2K   \u001b[90m━━━━━━━━━━━━━━━━━━━━━━━━━━━━━━━━━━━━━━━━\u001b[0m \u001b[32m211.5/211.5 MB\u001b[0m \u001b[31m2.1 MB/s\u001b[0m eta \u001b[36m0:00:00\u001b[0m\n",
            "\u001b[?25hDownloading nvidia_curand_cu12-10.3.5.147-py3-none-manylinux2014_x86_64.whl (56.3 MB)\n",
            "\u001b[2K   \u001b[90m━━━━━━━━━━━━━━━━━━━━━━━━━━━━━━━━━━━━━━━━\u001b[0m \u001b[32m56.3/56.3 MB\u001b[0m \u001b[31m13.3 MB/s\u001b[0m eta \u001b[36m0:00:00\u001b[0m\n",
            "\u001b[?25hDownloading nvidia_cusolver_cu12-11.6.1.9-py3-none-manylinux2014_x86_64.whl (127.9 MB)\n",
            "\u001b[2K   \u001b[90m━━━━━━━━━━━━━━━━━━━━━━━━━━━━━━━━━━━━━━━━\u001b[0m \u001b[32m127.9/127.9 MB\u001b[0m \u001b[31m8.5 MB/s\u001b[0m eta \u001b[36m0:00:00\u001b[0m\n",
            "\u001b[?25hDownloading nvidia_cusparse_cu12-12.3.1.170-py3-none-manylinux2014_x86_64.whl (207.5 MB)\n",
            "\u001b[2K   \u001b[90m━━━━━━━━━━━━━━━━━━━━━━━━━━━━━━━━━━━━━━━━\u001b[0m \u001b[32m207.5/207.5 MB\u001b[0m \u001b[31m2.8 MB/s\u001b[0m eta \u001b[36m0:00:00\u001b[0m\n",
            "\u001b[?25hDownloading nvidia_nvjitlink_cu12-12.4.127-py3-none-manylinux2014_x86_64.whl (21.1 MB)\n",
            "\u001b[2K   \u001b[90m━━━━━━━━━━━━━━━━━━━━━━━━━━━━━━━━━━━━━━━━\u001b[0m \u001b[32m21.1/21.1 MB\u001b[0m \u001b[31m33.0 MB/s\u001b[0m eta \u001b[36m0:00:00\u001b[0m\n",
            "\u001b[?25hDownloading ttach-0.0.3-py3-none-any.whl (9.8 kB)\n",
            "Building wheels for collected packages: grad-cam\n",
            "  Building wheel for grad-cam (pyproject.toml) ... \u001b[?25l\u001b[?25hdone\n",
            "  Created wheel for grad-cam: filename=grad_cam-1.5.5-py3-none-any.whl size=44286 sha256=cce4fd92295b6a69751adfdd07f9b6d972a8507a5573688ec148788490840812\n",
            "  Stored in directory: /root/.cache/pip/wheels/bc/52/78/893c3b94279ef238f43a9e89608af648de401b96415bebbd1f\n",
            "Successfully built grad-cam\n",
            "Installing collected packages: ttach, nvidia-nvjitlink-cu12, nvidia-curand-cu12, nvidia-cufft-cu12, nvidia-cuda-runtime-cu12, nvidia-cuda-nvrtc-cu12, nvidia-cuda-cupti-cu12, nvidia-cublas-cu12, nvidia-cusparse-cu12, nvidia-cudnn-cu12, nvidia-cusolver-cu12, grad-cam\n",
            "  Attempting uninstall: nvidia-nvjitlink-cu12\n",
            "    Found existing installation: nvidia-nvjitlink-cu12 12.5.82\n",
            "    Uninstalling nvidia-nvjitlink-cu12-12.5.82:\n",
            "      Successfully uninstalled nvidia-nvjitlink-cu12-12.5.82\n",
            "  Attempting uninstall: nvidia-curand-cu12\n",
            "    Found existing installation: nvidia-curand-cu12 10.3.6.82\n",
            "    Uninstalling nvidia-curand-cu12-10.3.6.82:\n",
            "      Successfully uninstalled nvidia-curand-cu12-10.3.6.82\n",
            "  Attempting uninstall: nvidia-cufft-cu12\n",
            "    Found existing installation: nvidia-cufft-cu12 11.2.3.61\n",
            "    Uninstalling nvidia-cufft-cu12-11.2.3.61:\n",
            "      Successfully uninstalled nvidia-cufft-cu12-11.2.3.61\n",
            "  Attempting uninstall: nvidia-cuda-runtime-cu12\n",
            "    Found existing installation: nvidia-cuda-runtime-cu12 12.5.82\n",
            "    Uninstalling nvidia-cuda-runtime-cu12-12.5.82:\n",
            "      Successfully uninstalled nvidia-cuda-runtime-cu12-12.5.82\n",
            "  Attempting uninstall: nvidia-cuda-nvrtc-cu12\n",
            "    Found existing installation: nvidia-cuda-nvrtc-cu12 12.5.82\n",
            "    Uninstalling nvidia-cuda-nvrtc-cu12-12.5.82:\n",
            "      Successfully uninstalled nvidia-cuda-nvrtc-cu12-12.5.82\n",
            "  Attempting uninstall: nvidia-cuda-cupti-cu12\n",
            "    Found existing installation: nvidia-cuda-cupti-cu12 12.5.82\n",
            "    Uninstalling nvidia-cuda-cupti-cu12-12.5.82:\n",
            "      Successfully uninstalled nvidia-cuda-cupti-cu12-12.5.82\n",
            "  Attempting uninstall: nvidia-cublas-cu12\n",
            "    Found existing installation: nvidia-cublas-cu12 12.5.3.2\n",
            "    Uninstalling nvidia-cublas-cu12-12.5.3.2:\n",
            "      Successfully uninstalled nvidia-cublas-cu12-12.5.3.2\n",
            "  Attempting uninstall: nvidia-cusparse-cu12\n",
            "    Found existing installation: nvidia-cusparse-cu12 12.5.1.3\n",
            "    Uninstalling nvidia-cusparse-cu12-12.5.1.3:\n",
            "      Successfully uninstalled nvidia-cusparse-cu12-12.5.1.3\n",
            "  Attempting uninstall: nvidia-cudnn-cu12\n",
            "    Found existing installation: nvidia-cudnn-cu12 9.3.0.75\n",
            "    Uninstalling nvidia-cudnn-cu12-9.3.0.75:\n",
            "      Successfully uninstalled nvidia-cudnn-cu12-9.3.0.75\n",
            "  Attempting uninstall: nvidia-cusolver-cu12\n",
            "    Found existing installation: nvidia-cusolver-cu12 11.6.3.83\n",
            "    Uninstalling nvidia-cusolver-cu12-11.6.3.83:\n",
            "      Successfully uninstalled nvidia-cusolver-cu12-11.6.3.83\n",
            "Successfully installed grad-cam-1.5.5 nvidia-cublas-cu12-12.4.5.8 nvidia-cuda-cupti-cu12-12.4.127 nvidia-cuda-nvrtc-cu12-12.4.127 nvidia-cuda-runtime-cu12-12.4.127 nvidia-cudnn-cu12-9.1.0.70 nvidia-cufft-cu12-11.2.1.3 nvidia-curand-cu12-10.3.5.147 nvidia-cusolver-cu12-11.6.1.9 nvidia-cusparse-cu12-12.3.1.170 nvidia-nvjitlink-cu12-12.4.127 ttach-0.0.3\n"
          ]
        },
        {
          "output_type": "display_data",
          "data": {
            "application/vnd.colab-display-data+json": {
              "pip_warning": {
                "packages": [
                  "nvidia"
                ]
              },
              "id": "ce841c6072d54fbeba294bd0cf42e460"
            }
          },
          "metadata": {}
        }
      ],
      "execution_count": 27
    },
    {
      "cell_type": "code",
      "source": [
        "from pytorch_grad_cam import GradCAM\n",
        "from pytorch_grad_cam.utils.image import show_cam_on_image\n"
      ],
      "metadata": {
        "trusted": true,
        "id": "5SjFYQrJk_vw"
      },
      "outputs": [],
      "execution_count": 30
    },
    {
      "cell_type": "code",
      "source": [
        "import torch\n",
        "import torch.nn as nn\n",
        "from torchvision import models, transforms\n",
        "from PIL import Image\n",
        "import matplotlib.pyplot as plt\n",
        "import numpy as np\n",
        "\n",
        "from pytorch_grad_cam import GradCAM\n",
        "from pytorch_grad_cam.utils.model_targets import ClassifierOutputTarget\n",
        "from pytorch_grad_cam.utils.image import show_cam_on_image\n",
        "\n",
        "# === Load and prepare model ===\n",
        "model = models.resnet50(pretrained=True)\n",
        "model.fc = nn.Linear(model.fc.in_features, len(class_names))  # class_names already defined\n",
        "model = model.to(device)\n",
        "model.eval()\n",
        "\n",
        "# === Load image ===\n",
        "img_path = \"/content/5cb_temp_36.00_copy_0001.jpeg\"\n",
        "image = Image.open(img_path).convert(\"RGB\")\n",
        "\n",
        "transform = transforms.Compose([\n",
        "    transforms.Resize((224, 224)),\n",
        "    transforms.ToTensor()\n",
        "])\n",
        "\n",
        "input_tensor = transform(image).unsqueeze(0).to(device)\n",
        "\n",
        "# Normalized image for overlay\n",
        "rgb_img = np.array(image.resize((224, 224))).astype(np.float32) / 255.0\n",
        "\n",
        "# Set target layer\n",
        "target_layers = [model.layer4[-1]]\n",
        "\n",
        "# Predict class\n",
        "with torch.no_grad():\n",
        "    outputs = model(input_tensor)\n",
        "    pred_class = outputs.argmax().item()\n",
        "\n",
        "# Set Grad-CAM target\n",
        "targets = [ClassifierOutputTarget(pred_class)]\n",
        "\n",
        "# Apply Grad-CAM\n",
        "with GradCAM(model=model, target_layers=target_layers) as cam:\n",
        "    grayscale_cam = cam(input_tensor=input_tensor, targets=targets)[0]\n",
        "    visualization = show_cam_on_image(rgb_img, grayscale_cam, use_rgb=True)\n",
        "\n",
        "# Display\n",
        "plt.imshow(visualization)\n",
        "plt.axis(\"off\")\n",
        "plt.title(f\"Grad-CAM (Predicted: {class_names[pred_class]})\")\n",
        "plt.show()\n"
      ],
      "metadata": {
        "trusted": true,
        "id": "vV1jucrTk_vw",
        "outputId": "48309997-6dd4-4866-c871-29cb6add098f",
        "colab": {
          "base_uri": "https://localhost:8080/",
          "height": 428
        }
      },
      "outputs": [
        {
          "output_type": "display_data",
          "data": {
            "text/plain": [
              "<Figure size 640x480 with 1 Axes>"
            ],
            "image/png": "[encoded data removed]"
          },
          "metadata": {}
        }
      ],
      "execution_count": 35
    }
  ]
}